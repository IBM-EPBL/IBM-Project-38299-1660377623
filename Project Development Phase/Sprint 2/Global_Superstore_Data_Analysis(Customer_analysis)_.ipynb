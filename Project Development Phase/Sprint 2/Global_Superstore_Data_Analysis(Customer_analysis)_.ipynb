{
  "nbformat": 4,
  "nbformat_minor": 0,
  "metadata": {
    "colab": {
      "provenance": []
    },
    "kernelspec": {
      "name": "python3",
      "display_name": "Python 3"
    },
    "language_info": {
      "name": "python"
    }
  },
  "cells": [
    {
      "cell_type": "markdown",
      "source": [
        "# **Global Super Store Data Analysis**"
      ],
      "metadata": {
        "id": "BqJKnjBx3y4B"
      }
    },
    {
      "cell_type": "markdown",
      "source": [
        "**Descriptive analysis on global Super Store Data**"
      ],
      "metadata": {
        "id": "WvpH7x9X4g5i"
      }
    },
    {
      "cell_type": "markdown",
      "source": [
        "Shopping online is currently the need of the hour. Because of this COVID, it's not easy to walk in a store randomly and buy anything you want. I this I am trying to understand a few things like"
      ],
      "metadata": {
        "id": "HPXHkgRv43Ac"
      }
    },
    {
      "cell_type": "markdown",
      "source": [
        "Customers Analysis\n",
        "\n",
        "* Profile the customers based on their frequency of purchase - calculate      frequency of purchase for each customer\n",
        "* Do the high frequent customers are contributing more revenue\n",
        "* Are they also profitable - what is the profit margin across the buckets\n",
        "* Which customer segment is most profitable in each year.\n",
        "* How the customers are distributed across the countries- -"
      ],
      "metadata": {
        "id": "qJnPyobL485I"
      }
    },
    {
      "cell_type": "code",
      "source": [
        "# This Python 3 environment comes with many helpful analytics libraries installed\n",
        "# It is defined by the kaggle/python Docker image: https://github.com/kaggle/docker-python\n",
        "# For example, here's several helpful packages to load\n",
        "\n",
        "import numpy as np # linear algebra\n",
        "import pandas as pd # data processing, CSV file I/O (e.g. pd.read_csv)\n",
        "\n",
        "# Input data files are available in the read-only \"../input/\" directory\n",
        "# For example, running this (by clicking run or pressing Shift+Enter) will list all files under the input directory\n",
        "\n",
        "import os\n",
        "for dirname, _, filenames in os.walk('/kaggle/input'):\n",
        "    for filename in filenames:\n",
        "        print(os.path.join(dirname, filename))\n",
        "\n",
        "# You can write up to 5GB to the current directory (/kaggle/working/) that gets preserved as output when you create a version using \"Save & Run All\" \n",
        "# You can also write temporary files to /kaggle/temp/, but they won't be saved outside of the current session\n",
        "\n"
      ],
      "metadata": {
        "id": "jicCgnVc4rsN"
      },
      "execution_count": 7,
      "outputs": []
    },
    {
      "cell_type": "markdown",
      "source": [
        "/kaggle/input/global-super-store-dataset/Global_Superstore2.csv\n",
        "\n",
        "/kaggle/input/global-super-store-dataset/Global_Superstore2.xlsx"
      ],
      "metadata": {
        "id": "sX37IaFA508f"
      }
    },
    {
      "cell_type": "code",
      "source": [
        "import numpy as np\n",
        "import pandas as pd\n",
        "import matplotlib.pyplot as plt\n",
        "import seaborn as sns"
      ],
      "metadata": {
        "id": "EdZd7bPG50uY"
      },
      "execution_count": 6,
      "outputs": []
    },
    {
      "cell_type": "code",
      "source": [
        "from google.colab import drive\n",
        "drive.mount('/content/drive')"
      ],
      "metadata": {
        "id": "DfzZ0LAJ7hFs",
        "colab": {
          "base_uri": "https://localhost:8080/"
        },
        "outputId": "7dc970d7-3f53-4813-a254-4244b44f2c77"
      },
      "execution_count": 8,
      "outputs": [
        {
          "output_type": "stream",
          "name": "stdout",
          "text": [
            "Drive already mounted at /content/drive; to attempt to forcibly remount, call drive.mount(\"/content/drive\", force_remount=True).\n"
          ]
        }
      ]
    },
    {
      "cell_type": "code",
      "source": [
        "df = pd.read_excel('/content/drive/MyDrive/Machine Learning/Global_Superstore2.xlsx')"
      ],
      "metadata": {
        "id": "Lhf20vRACZ2x"
      },
      "execution_count": 9,
      "outputs": []
    },
    {
      "cell_type": "code",
      "source": [
        "df.head()"
      ],
      "metadata": {
        "colab": {
          "base_uri": "https://localhost:8080/",
          "height": 401
        },
        "id": "4uUALmi4CuyO",
        "outputId": "8af1d9fa-ae29-439c-f952-668ad3f42292"
      },
      "execution_count": 10,
      "outputs": [
        {
          "output_type": "execute_result",
          "data": {
            "text/plain": [
              "   Row ID         Order ID  Order Date   Ship Date     Ship Mode Customer ID  \\\n",
              "0   32298   CA-2012-124891  31-07-2012  31-07-2012      Same Day    RH-19495   \n",
              "1   26341    IN-2013-77878  05-02-2013  07-02-2013  Second Class    JR-16210   \n",
              "2   25330    IN-2013-71249  17-10-2013  18-10-2013   First Class    CR-12730   \n",
              "3   13524  ES-2013-1579342  28-01-2013  30-01-2013   First Class    KM-16375   \n",
              "4   47221     SG-2013-4320  05-11-2013  06-11-2013      Same Day     RH-9495   \n",
              "\n",
              "      Customer Name      Segment           City            State  ...  \\\n",
              "0       Rick Hansen     Consumer  New York City         New York  ...   \n",
              "1     Justin Ritter    Corporate     Wollongong  New South Wales  ...   \n",
              "2      Craig Reiter     Consumer       Brisbane       Queensland  ...   \n",
              "3  Katherine Murray  Home Office         Berlin           Berlin  ...   \n",
              "4       Rick Hansen     Consumer          Dakar            Dakar  ...   \n",
              "\n",
              "         Product ID    Category Sub-Category  \\\n",
              "0   TEC-AC-10003033  Technology  Accessories   \n",
              "1   FUR-CH-10003950   Furniture       Chairs   \n",
              "2   TEC-PH-10004664  Technology       Phones   \n",
              "3   TEC-PH-10004583  Technology       Phones   \n",
              "4  TEC-SHA-10000501  Technology      Copiers   \n",
              "\n",
              "                                        Product Name     Sales Quantity  \\\n",
              "0  Plantronics CS510 - Over-the-Head monaural Wir...  2309.650        7   \n",
              "1          Novimex Executive Leather Armchair, Black  3709.395        9   \n",
              "2                  Nokia Smart Phone, with Caller ID  5175.171        9   \n",
              "3                     Motorola Smart Phone, Cordless  2892.510        5   \n",
              "4                     Sharp Wireless Fax, High-Speed  2832.960        8   \n",
              "\n",
              "  Discount    Profit  Shipping Cost  Order Priority  \n",
              "0      0.0  762.1845         933.57        Critical  \n",
              "1      0.1 -288.7650         923.63        Critical  \n",
              "2      0.1  919.9710         915.49          Medium  \n",
              "3      0.1  -96.5400         910.16          Medium  \n",
              "4      0.0  311.5200         903.04        Critical  \n",
              "\n",
              "[5 rows x 24 columns]"
            ],
            "text/html": [
              "\n",
              "  <div id=\"df-bfc1e66c-496c-4272-9004-6ba1ed661c4e\">\n",
              "    <div class=\"colab-df-container\">\n",
              "      <div>\n",
              "<style scoped>\n",
              "    .dataframe tbody tr th:only-of-type {\n",
              "        vertical-align: middle;\n",
              "    }\n",
              "\n",
              "    .dataframe tbody tr th {\n",
              "        vertical-align: top;\n",
              "    }\n",
              "\n",
              "    .dataframe thead th {\n",
              "        text-align: right;\n",
              "    }\n",
              "</style>\n",
              "<table border=\"1\" class=\"dataframe\">\n",
              "  <thead>\n",
              "    <tr style=\"text-align: right;\">\n",
              "      <th></th>\n",
              "      <th>Row ID</th>\n",
              "      <th>Order ID</th>\n",
              "      <th>Order Date</th>\n",
              "      <th>Ship Date</th>\n",
              "      <th>Ship Mode</th>\n",
              "      <th>Customer ID</th>\n",
              "      <th>Customer Name</th>\n",
              "      <th>Segment</th>\n",
              "      <th>City</th>\n",
              "      <th>State</th>\n",
              "      <th>...</th>\n",
              "      <th>Product ID</th>\n",
              "      <th>Category</th>\n",
              "      <th>Sub-Category</th>\n",
              "      <th>Product Name</th>\n",
              "      <th>Sales</th>\n",
              "      <th>Quantity</th>\n",
              "      <th>Discount</th>\n",
              "      <th>Profit</th>\n",
              "      <th>Shipping Cost</th>\n",
              "      <th>Order Priority</th>\n",
              "    </tr>\n",
              "  </thead>\n",
              "  <tbody>\n",
              "    <tr>\n",
              "      <th>0</th>\n",
              "      <td>32298</td>\n",
              "      <td>CA-2012-124891</td>\n",
              "      <td>31-07-2012</td>\n",
              "      <td>31-07-2012</td>\n",
              "      <td>Same Day</td>\n",
              "      <td>RH-19495</td>\n",
              "      <td>Rick Hansen</td>\n",
              "      <td>Consumer</td>\n",
              "      <td>New York City</td>\n",
              "      <td>New York</td>\n",
              "      <td>...</td>\n",
              "      <td>TEC-AC-10003033</td>\n",
              "      <td>Technology</td>\n",
              "      <td>Accessories</td>\n",
              "      <td>Plantronics CS510 - Over-the-Head monaural Wir...</td>\n",
              "      <td>2309.650</td>\n",
              "      <td>7</td>\n",
              "      <td>0.0</td>\n",
              "      <td>762.1845</td>\n",
              "      <td>933.57</td>\n",
              "      <td>Critical</td>\n",
              "    </tr>\n",
              "    <tr>\n",
              "      <th>1</th>\n",
              "      <td>26341</td>\n",
              "      <td>IN-2013-77878</td>\n",
              "      <td>05-02-2013</td>\n",
              "      <td>07-02-2013</td>\n",
              "      <td>Second Class</td>\n",
              "      <td>JR-16210</td>\n",
              "      <td>Justin Ritter</td>\n",
              "      <td>Corporate</td>\n",
              "      <td>Wollongong</td>\n",
              "      <td>New South Wales</td>\n",
              "      <td>...</td>\n",
              "      <td>FUR-CH-10003950</td>\n",
              "      <td>Furniture</td>\n",
              "      <td>Chairs</td>\n",
              "      <td>Novimex Executive Leather Armchair, Black</td>\n",
              "      <td>3709.395</td>\n",
              "      <td>9</td>\n",
              "      <td>0.1</td>\n",
              "      <td>-288.7650</td>\n",
              "      <td>923.63</td>\n",
              "      <td>Critical</td>\n",
              "    </tr>\n",
              "    <tr>\n",
              "      <th>2</th>\n",
              "      <td>25330</td>\n",
              "      <td>IN-2013-71249</td>\n",
              "      <td>17-10-2013</td>\n",
              "      <td>18-10-2013</td>\n",
              "      <td>First Class</td>\n",
              "      <td>CR-12730</td>\n",
              "      <td>Craig Reiter</td>\n",
              "      <td>Consumer</td>\n",
              "      <td>Brisbane</td>\n",
              "      <td>Queensland</td>\n",
              "      <td>...</td>\n",
              "      <td>TEC-PH-10004664</td>\n",
              "      <td>Technology</td>\n",
              "      <td>Phones</td>\n",
              "      <td>Nokia Smart Phone, with Caller ID</td>\n",
              "      <td>5175.171</td>\n",
              "      <td>9</td>\n",
              "      <td>0.1</td>\n",
              "      <td>919.9710</td>\n",
              "      <td>915.49</td>\n",
              "      <td>Medium</td>\n",
              "    </tr>\n",
              "    <tr>\n",
              "      <th>3</th>\n",
              "      <td>13524</td>\n",
              "      <td>ES-2013-1579342</td>\n",
              "      <td>28-01-2013</td>\n",
              "      <td>30-01-2013</td>\n",
              "      <td>First Class</td>\n",
              "      <td>KM-16375</td>\n",
              "      <td>Katherine Murray</td>\n",
              "      <td>Home Office</td>\n",
              "      <td>Berlin</td>\n",
              "      <td>Berlin</td>\n",
              "      <td>...</td>\n",
              "      <td>TEC-PH-10004583</td>\n",
              "      <td>Technology</td>\n",
              "      <td>Phones</td>\n",
              "      <td>Motorola Smart Phone, Cordless</td>\n",
              "      <td>2892.510</td>\n",
              "      <td>5</td>\n",
              "      <td>0.1</td>\n",
              "      <td>-96.5400</td>\n",
              "      <td>910.16</td>\n",
              "      <td>Medium</td>\n",
              "    </tr>\n",
              "    <tr>\n",
              "      <th>4</th>\n",
              "      <td>47221</td>\n",
              "      <td>SG-2013-4320</td>\n",
              "      <td>05-11-2013</td>\n",
              "      <td>06-11-2013</td>\n",
              "      <td>Same Day</td>\n",
              "      <td>RH-9495</td>\n",
              "      <td>Rick Hansen</td>\n",
              "      <td>Consumer</td>\n",
              "      <td>Dakar</td>\n",
              "      <td>Dakar</td>\n",
              "      <td>...</td>\n",
              "      <td>TEC-SHA-10000501</td>\n",
              "      <td>Technology</td>\n",
              "      <td>Copiers</td>\n",
              "      <td>Sharp Wireless Fax, High-Speed</td>\n",
              "      <td>2832.960</td>\n",
              "      <td>8</td>\n",
              "      <td>0.0</td>\n",
              "      <td>311.5200</td>\n",
              "      <td>903.04</td>\n",
              "      <td>Critical</td>\n",
              "    </tr>\n",
              "  </tbody>\n",
              "</table>\n",
              "<p>5 rows × 24 columns</p>\n",
              "</div>\n",
              "      <button class=\"colab-df-convert\" onclick=\"convertToInteractive('df-bfc1e66c-496c-4272-9004-6ba1ed661c4e')\"\n",
              "              title=\"Convert this dataframe to an interactive table.\"\n",
              "              style=\"display:none;\">\n",
              "        \n",
              "  <svg xmlns=\"http://www.w3.org/2000/svg\" height=\"24px\"viewBox=\"0 0 24 24\"\n",
              "       width=\"24px\">\n",
              "    <path d=\"M0 0h24v24H0V0z\" fill=\"none\"/>\n",
              "    <path d=\"M18.56 5.44l.94 2.06.94-2.06 2.06-.94-2.06-.94-.94-2.06-.94 2.06-2.06.94zm-11 1L8.5 8.5l.94-2.06 2.06-.94-2.06-.94L8.5 2.5l-.94 2.06-2.06.94zm10 10l.94 2.06.94-2.06 2.06-.94-2.06-.94-.94-2.06-.94 2.06-2.06.94z\"/><path d=\"M17.41 7.96l-1.37-1.37c-.4-.4-.92-.59-1.43-.59-.52 0-1.04.2-1.43.59L10.3 9.45l-7.72 7.72c-.78.78-.78 2.05 0 2.83L4 21.41c.39.39.9.59 1.41.59.51 0 1.02-.2 1.41-.59l7.78-7.78 2.81-2.81c.8-.78.8-2.07 0-2.86zM5.41 20L4 18.59l7.72-7.72 1.47 1.35L5.41 20z\"/>\n",
              "  </svg>\n",
              "      </button>\n",
              "      \n",
              "  <style>\n",
              "    .colab-df-container {\n",
              "      display:flex;\n",
              "      flex-wrap:wrap;\n",
              "      gap: 12px;\n",
              "    }\n",
              "\n",
              "    .colab-df-convert {\n",
              "      background-color: #E8F0FE;\n",
              "      border: none;\n",
              "      border-radius: 50%;\n",
              "      cursor: pointer;\n",
              "      display: none;\n",
              "      fill: #1967D2;\n",
              "      height: 32px;\n",
              "      padding: 0 0 0 0;\n",
              "      width: 32px;\n",
              "    }\n",
              "\n",
              "    .colab-df-convert:hover {\n",
              "      background-color: #E2EBFA;\n",
              "      box-shadow: 0px 1px 2px rgba(60, 64, 67, 0.3), 0px 1px 3px 1px rgba(60, 64, 67, 0.15);\n",
              "      fill: #174EA6;\n",
              "    }\n",
              "\n",
              "    [theme=dark] .colab-df-convert {\n",
              "      background-color: #3B4455;\n",
              "      fill: #D2E3FC;\n",
              "    }\n",
              "\n",
              "    [theme=dark] .colab-df-convert:hover {\n",
              "      background-color: #434B5C;\n",
              "      box-shadow: 0px 1px 3px 1px rgba(0, 0, 0, 0.15);\n",
              "      filter: drop-shadow(0px 1px 2px rgba(0, 0, 0, 0.3));\n",
              "      fill: #FFFFFF;\n",
              "    }\n",
              "  </style>\n",
              "\n",
              "      <script>\n",
              "        const buttonEl =\n",
              "          document.querySelector('#df-bfc1e66c-496c-4272-9004-6ba1ed661c4e button.colab-df-convert');\n",
              "        buttonEl.style.display =\n",
              "          google.colab.kernel.accessAllowed ? 'block' : 'none';\n",
              "\n",
              "        async function convertToInteractive(key) {\n",
              "          const element = document.querySelector('#df-bfc1e66c-496c-4272-9004-6ba1ed661c4e');\n",
              "          const dataTable =\n",
              "            await google.colab.kernel.invokeFunction('convertToInteractive',\n",
              "                                                     [key], {});\n",
              "          if (!dataTable) return;\n",
              "\n",
              "          const docLinkHtml = 'Like what you see? Visit the ' +\n",
              "            '<a target=\"_blank\" href=https://colab.research.google.com/notebooks/data_table.ipynb>data table notebook</a>'\n",
              "            + ' to learn more about interactive tables.';\n",
              "          element.innerHTML = '';\n",
              "          dataTable['output_type'] = 'display_data';\n",
              "          await google.colab.output.renderOutput(dataTable, element);\n",
              "          const docLink = document.createElement('div');\n",
              "          docLink.innerHTML = docLinkHtml;\n",
              "          element.appendChild(docLink);\n",
              "        }\n",
              "      </script>\n",
              "    </div>\n",
              "  </div>\n",
              "  "
            ]
          },
          "metadata": {},
          "execution_count": 10
        }
      ]
    },
    {
      "cell_type": "markdown",
      "source": [
        "**Customers Analysis:**\n",
        "\n",
        "1. Profile the customers based on their frequency of purchase - calculate frequency of purchase for each customer and plot a histogram to get the threshold for Low/Mid/High frequency customers\n",
        "\n",
        "2. Does the high frequent customers are contributing more revenue\n",
        "\n",
        "3. Are they also profitable - what is the profit margin across the buckets\n",
        "\n",
        "4. Which customer segment is most profitable in each year ( there is a column called customer segment)\n",
        "\n",
        "5. How the customers are distributed across the countries - pie chart\n",
        "\n",
        "6. Write a function to split the global store data into different unique data frames based on the unique values in country column [Means, we should have one data frame for one country as function output ]"
      ],
      "metadata": {
        "id": "wHqVcpSb93z7"
      }
    },
    {
      "cell_type": "code",
      "source": [
        "df.info()"
      ],
      "metadata": {
        "colab": {
          "base_uri": "https://localhost:8080/"
        },
        "id": "6MR_Oo9HDZNx",
        "outputId": "1f9ee4d7-24fe-4b0f-c1fc-063f9fa8a97f"
      },
      "execution_count": 11,
      "outputs": [
        {
          "output_type": "stream",
          "name": "stdout",
          "text": [
            "<class 'pandas.core.frame.DataFrame'>\n",
            "RangeIndex: 51290 entries, 0 to 51289\n",
            "Data columns (total 24 columns):\n",
            " #   Column          Non-Null Count  Dtype  \n",
            "---  ------          --------------  -----  \n",
            " 0   Row ID          51290 non-null  int64  \n",
            " 1   Order ID        51290 non-null  object \n",
            " 2   Order Date      51290 non-null  object \n",
            " 3   Ship Date       51290 non-null  object \n",
            " 4   Ship Mode       51290 non-null  object \n",
            " 5   Customer ID     51290 non-null  object \n",
            " 6   Customer Name   51290 non-null  object \n",
            " 7   Segment         51290 non-null  object \n",
            " 8   City            51290 non-null  object \n",
            " 9   State           51290 non-null  object \n",
            " 10  Country         51290 non-null  object \n",
            " 11  Postal Code     9994 non-null   float64\n",
            " 12  Market          51290 non-null  object \n",
            " 13  Region          51290 non-null  object \n",
            " 14  Product ID      51290 non-null  object \n",
            " 15  Category        51290 non-null  object \n",
            " 16  Sub-Category    51290 non-null  object \n",
            " 17  Product Name    51290 non-null  object \n",
            " 18  Sales           51290 non-null  float64\n",
            " 19  Quantity        51290 non-null  int64  \n",
            " 20  Discount        51290 non-null  float64\n",
            " 21  Profit          51290 non-null  float64\n",
            " 22  Shipping Cost   51290 non-null  float64\n",
            " 23  Order Priority  51290 non-null  object \n",
            "dtypes: float64(5), int64(2), object(17)\n",
            "memory usage: 9.4+ MB\n"
          ]
        }
      ]
    },
    {
      "cell_type": "code",
      "source": [
        "df.shape"
      ],
      "metadata": {
        "colab": {
          "base_uri": "https://localhost:8080/"
        },
        "id": "JXhuvGBlDkrR",
        "outputId": "c81707b4-4f89-4713-d371-efc9ba2332c6"
      },
      "execution_count": 12,
      "outputs": [
        {
          "output_type": "execute_result",
          "data": {
            "text/plain": [
              "(51290, 24)"
            ]
          },
          "metadata": {},
          "execution_count": 12
        }
      ]
    },
    {
      "cell_type": "markdown",
      "source": [
        "We can see that the data has 51290 data entries with 24 features."
      ],
      "metadata": {
        "id": "F5jxVDEWDpTg"
      }
    },
    {
      "cell_type": "code",
      "source": [
        "df.describe()\n",
        "# can see that there is negetive trend in profit\n",
        "# in sales  data is either right skewed or there are too many outliers\n",
        "# the discount falls in the range of 75% - 100%"
      ],
      "metadata": {
        "colab": {
          "base_uri": "https://localhost:8080/",
          "height": 300
        },
        "id": "k7_-Vt5nDqTJ",
        "outputId": "6b32af48-b8fe-45c0-854f-791d8d2ba088"
      },
      "execution_count": 13,
      "outputs": [
        {
          "output_type": "execute_result",
          "data": {
            "text/plain": [
              "            Row ID   Postal Code         Sales      Quantity      Discount  \\\n",
              "count  51290.00000   9994.000000  51290.000000  51290.000000  51290.000000   \n",
              "mean   25645.50000  55190.379428    246.490581      3.476545      0.142908   \n",
              "std    14806.29199  32063.693350    487.565361      2.278766      0.212280   \n",
              "min        1.00000   1040.000000      0.444000      1.000000      0.000000   \n",
              "25%    12823.25000  23223.000000     30.758625      2.000000      0.000000   \n",
              "50%    25645.50000  56430.500000     85.053000      3.000000      0.000000   \n",
              "75%    38467.75000  90008.000000    251.053200      5.000000      0.200000   \n",
              "max    51290.00000  99301.000000  22638.480000     14.000000      0.850000   \n",
              "\n",
              "             Profit  Shipping Cost  \n",
              "count  51290.000000   51290.000000  \n",
              "mean      28.610982      26.375915  \n",
              "std      174.340972      57.296804  \n",
              "min    -6599.978000       0.000000  \n",
              "25%        0.000000       2.610000  \n",
              "50%        9.240000       7.790000  \n",
              "75%       36.810000      24.450000  \n",
              "max     8399.976000     933.570000  "
            ],
            "text/html": [
              "\n",
              "  <div id=\"df-d60b2ed5-f0fc-4a02-8032-4a607afe8c6d\">\n",
              "    <div class=\"colab-df-container\">\n",
              "      <div>\n",
              "<style scoped>\n",
              "    .dataframe tbody tr th:only-of-type {\n",
              "        vertical-align: middle;\n",
              "    }\n",
              "\n",
              "    .dataframe tbody tr th {\n",
              "        vertical-align: top;\n",
              "    }\n",
              "\n",
              "    .dataframe thead th {\n",
              "        text-align: right;\n",
              "    }\n",
              "</style>\n",
              "<table border=\"1\" class=\"dataframe\">\n",
              "  <thead>\n",
              "    <tr style=\"text-align: right;\">\n",
              "      <th></th>\n",
              "      <th>Row ID</th>\n",
              "      <th>Postal Code</th>\n",
              "      <th>Sales</th>\n",
              "      <th>Quantity</th>\n",
              "      <th>Discount</th>\n",
              "      <th>Profit</th>\n",
              "      <th>Shipping Cost</th>\n",
              "    </tr>\n",
              "  </thead>\n",
              "  <tbody>\n",
              "    <tr>\n",
              "      <th>count</th>\n",
              "      <td>51290.00000</td>\n",
              "      <td>9994.000000</td>\n",
              "      <td>51290.000000</td>\n",
              "      <td>51290.000000</td>\n",
              "      <td>51290.000000</td>\n",
              "      <td>51290.000000</td>\n",
              "      <td>51290.000000</td>\n",
              "    </tr>\n",
              "    <tr>\n",
              "      <th>mean</th>\n",
              "      <td>25645.50000</td>\n",
              "      <td>55190.379428</td>\n",
              "      <td>246.490581</td>\n",
              "      <td>3.476545</td>\n",
              "      <td>0.142908</td>\n",
              "      <td>28.610982</td>\n",
              "      <td>26.375915</td>\n",
              "    </tr>\n",
              "    <tr>\n",
              "      <th>std</th>\n",
              "      <td>14806.29199</td>\n",
              "      <td>32063.693350</td>\n",
              "      <td>487.565361</td>\n",
              "      <td>2.278766</td>\n",
              "      <td>0.212280</td>\n",
              "      <td>174.340972</td>\n",
              "      <td>57.296804</td>\n",
              "    </tr>\n",
              "    <tr>\n",
              "      <th>min</th>\n",
              "      <td>1.00000</td>\n",
              "      <td>1040.000000</td>\n",
              "      <td>0.444000</td>\n",
              "      <td>1.000000</td>\n",
              "      <td>0.000000</td>\n",
              "      <td>-6599.978000</td>\n",
              "      <td>0.000000</td>\n",
              "    </tr>\n",
              "    <tr>\n",
              "      <th>25%</th>\n",
              "      <td>12823.25000</td>\n",
              "      <td>23223.000000</td>\n",
              "      <td>30.758625</td>\n",
              "      <td>2.000000</td>\n",
              "      <td>0.000000</td>\n",
              "      <td>0.000000</td>\n",
              "      <td>2.610000</td>\n",
              "    </tr>\n",
              "    <tr>\n",
              "      <th>50%</th>\n",
              "      <td>25645.50000</td>\n",
              "      <td>56430.500000</td>\n",
              "      <td>85.053000</td>\n",
              "      <td>3.000000</td>\n",
              "      <td>0.000000</td>\n",
              "      <td>9.240000</td>\n",
              "      <td>7.790000</td>\n",
              "    </tr>\n",
              "    <tr>\n",
              "      <th>75%</th>\n",
              "      <td>38467.75000</td>\n",
              "      <td>90008.000000</td>\n",
              "      <td>251.053200</td>\n",
              "      <td>5.000000</td>\n",
              "      <td>0.200000</td>\n",
              "      <td>36.810000</td>\n",
              "      <td>24.450000</td>\n",
              "    </tr>\n",
              "    <tr>\n",
              "      <th>max</th>\n",
              "      <td>51290.00000</td>\n",
              "      <td>99301.000000</td>\n",
              "      <td>22638.480000</td>\n",
              "      <td>14.000000</td>\n",
              "      <td>0.850000</td>\n",
              "      <td>8399.976000</td>\n",
              "      <td>933.570000</td>\n",
              "    </tr>\n",
              "  </tbody>\n",
              "</table>\n",
              "</div>\n",
              "      <button class=\"colab-df-convert\" onclick=\"convertToInteractive('df-d60b2ed5-f0fc-4a02-8032-4a607afe8c6d')\"\n",
              "              title=\"Convert this dataframe to an interactive table.\"\n",
              "              style=\"display:none;\">\n",
              "        \n",
              "  <svg xmlns=\"http://www.w3.org/2000/svg\" height=\"24px\"viewBox=\"0 0 24 24\"\n",
              "       width=\"24px\">\n",
              "    <path d=\"M0 0h24v24H0V0z\" fill=\"none\"/>\n",
              "    <path d=\"M18.56 5.44l.94 2.06.94-2.06 2.06-.94-2.06-.94-.94-2.06-.94 2.06-2.06.94zm-11 1L8.5 8.5l.94-2.06 2.06-.94-2.06-.94L8.5 2.5l-.94 2.06-2.06.94zm10 10l.94 2.06.94-2.06 2.06-.94-2.06-.94-.94-2.06-.94 2.06-2.06.94z\"/><path d=\"M17.41 7.96l-1.37-1.37c-.4-.4-.92-.59-1.43-.59-.52 0-1.04.2-1.43.59L10.3 9.45l-7.72 7.72c-.78.78-.78 2.05 0 2.83L4 21.41c.39.39.9.59 1.41.59.51 0 1.02-.2 1.41-.59l7.78-7.78 2.81-2.81c.8-.78.8-2.07 0-2.86zM5.41 20L4 18.59l7.72-7.72 1.47 1.35L5.41 20z\"/>\n",
              "  </svg>\n",
              "      </button>\n",
              "      \n",
              "  <style>\n",
              "    .colab-df-container {\n",
              "      display:flex;\n",
              "      flex-wrap:wrap;\n",
              "      gap: 12px;\n",
              "    }\n",
              "\n",
              "    .colab-df-convert {\n",
              "      background-color: #E8F0FE;\n",
              "      border: none;\n",
              "      border-radius: 50%;\n",
              "      cursor: pointer;\n",
              "      display: none;\n",
              "      fill: #1967D2;\n",
              "      height: 32px;\n",
              "      padding: 0 0 0 0;\n",
              "      width: 32px;\n",
              "    }\n",
              "\n",
              "    .colab-df-convert:hover {\n",
              "      background-color: #E2EBFA;\n",
              "      box-shadow: 0px 1px 2px rgba(60, 64, 67, 0.3), 0px 1px 3px 1px rgba(60, 64, 67, 0.15);\n",
              "      fill: #174EA6;\n",
              "    }\n",
              "\n",
              "    [theme=dark] .colab-df-convert {\n",
              "      background-color: #3B4455;\n",
              "      fill: #D2E3FC;\n",
              "    }\n",
              "\n",
              "    [theme=dark] .colab-df-convert:hover {\n",
              "      background-color: #434B5C;\n",
              "      box-shadow: 0px 1px 3px 1px rgba(0, 0, 0, 0.15);\n",
              "      filter: drop-shadow(0px 1px 2px rgba(0, 0, 0, 0.3));\n",
              "      fill: #FFFFFF;\n",
              "    }\n",
              "  </style>\n",
              "\n",
              "      <script>\n",
              "        const buttonEl =\n",
              "          document.querySelector('#df-d60b2ed5-f0fc-4a02-8032-4a607afe8c6d button.colab-df-convert');\n",
              "        buttonEl.style.display =\n",
              "          google.colab.kernel.accessAllowed ? 'block' : 'none';\n",
              "\n",
              "        async function convertToInteractive(key) {\n",
              "          const element = document.querySelector('#df-d60b2ed5-f0fc-4a02-8032-4a607afe8c6d');\n",
              "          const dataTable =\n",
              "            await google.colab.kernel.invokeFunction('convertToInteractive',\n",
              "                                                     [key], {});\n",
              "          if (!dataTable) return;\n",
              "\n",
              "          const docLinkHtml = 'Like what you see? Visit the ' +\n",
              "            '<a target=\"_blank\" href=https://colab.research.google.com/notebooks/data_table.ipynb>data table notebook</a>'\n",
              "            + ' to learn more about interactive tables.';\n",
              "          element.innerHTML = '';\n",
              "          dataTable['output_type'] = 'display_data';\n",
              "          await google.colab.output.renderOutput(dataTable, element);\n",
              "          const docLink = document.createElement('div');\n",
              "          docLink.innerHTML = docLinkHtml;\n",
              "          element.appendChild(docLink);\n",
              "        }\n",
              "      </script>\n",
              "    </div>\n",
              "  </div>\n",
              "  "
            ]
          },
          "metadata": {},
          "execution_count": 13
        }
      ]
    },
    {
      "cell_type": "code",
      "source": [
        "df.isnull().sum()"
      ],
      "metadata": {
        "colab": {
          "base_uri": "https://localhost:8080/"
        },
        "id": "gkGBFXQyDyPl",
        "outputId": "6e0bac54-2649-449e-e091-95aa8327324a"
      },
      "execution_count": 14,
      "outputs": [
        {
          "output_type": "execute_result",
          "data": {
            "text/plain": [
              "Row ID                0\n",
              "Order ID              0\n",
              "Order Date            0\n",
              "Ship Date             0\n",
              "Ship Mode             0\n",
              "Customer ID           0\n",
              "Customer Name         0\n",
              "Segment               0\n",
              "City                  0\n",
              "State                 0\n",
              "Country               0\n",
              "Postal Code       41296\n",
              "Market                0\n",
              "Region                0\n",
              "Product ID            0\n",
              "Category              0\n",
              "Sub-Category          0\n",
              "Product Name          0\n",
              "Sales                 0\n",
              "Quantity              0\n",
              "Discount              0\n",
              "Profit                0\n",
              "Shipping Cost         0\n",
              "Order Priority        0\n",
              "dtype: int64"
            ]
          },
          "metadata": {},
          "execution_count": 14
        }
      ]
    },
    {
      "cell_type": "code",
      "source": [
        "# We can see that only the postal code attribute has 41,296 null vlues. Thats almost 80 % of the values in the column are null"
      ],
      "metadata": {
        "id": "d3kpdWNhD0PJ"
      },
      "execution_count": 15,
      "outputs": []
    },
    {
      "cell_type": "code",
      "source": [
        "df.isnull().sum()"
      ],
      "metadata": {
        "colab": {
          "base_uri": "https://localhost:8080/"
        },
        "id": "-DxN6rliD53K",
        "outputId": "c8860ee3-06ea-45c7-d946-d2652f57b348"
      },
      "execution_count": 16,
      "outputs": [
        {
          "output_type": "execute_result",
          "data": {
            "text/plain": [
              "Row ID                0\n",
              "Order ID              0\n",
              "Order Date            0\n",
              "Ship Date             0\n",
              "Ship Mode             0\n",
              "Customer ID           0\n",
              "Customer Name         0\n",
              "Segment               0\n",
              "City                  0\n",
              "State                 0\n",
              "Country               0\n",
              "Postal Code       41296\n",
              "Market                0\n",
              "Region                0\n",
              "Product ID            0\n",
              "Category              0\n",
              "Sub-Category          0\n",
              "Product Name          0\n",
              "Sales                 0\n",
              "Quantity              0\n",
              "Discount              0\n",
              "Profit                0\n",
              "Shipping Cost         0\n",
              "Order Priority        0\n",
              "dtype: int64"
            ]
          },
          "metadata": {},
          "execution_count": 16
        }
      ]
    },
    {
      "cell_type": "markdown",
      "source": [
        "EDA (To get a better understanding of thr data)"
      ],
      "metadata": {
        "id": "E_TsgAKHD-SC"
      }
    },
    {
      "cell_type": "markdown",
      "source": [
        "lets understand how many of them are categorical and how many unique values each categorical columns have,"
      ],
      "metadata": {
        "id": "TzbRAyhPEDLs"
      }
    },
    {
      "cell_type": "code",
      "source": [
        "cat_cols = df.select_dtypes(exclude=['int64','float64']).columns\n",
        "cat_cols"
      ],
      "metadata": {
        "colab": {
          "base_uri": "https://localhost:8080/"
        },
        "id": "AbHJMsZoD_AI",
        "outputId": "3bda8f1e-a12f-4dff-88cf-1d01b352b1ce"
      },
      "execution_count": 17,
      "outputs": [
        {
          "output_type": "execute_result",
          "data": {
            "text/plain": [
              "Index(['Order ID', 'Order Date', 'Ship Date', 'Ship Mode', 'Customer ID',\n",
              "       'Customer Name', 'Segment', 'City', 'State', 'Country', 'Market',\n",
              "       'Region', 'Product ID', 'Category', 'Sub-Category', 'Product Name',\n",
              "       'Order Priority'],\n",
              "      dtype='object')"
            ]
          },
          "metadata": {},
          "execution_count": 17
        }
      ]
    },
    {
      "cell_type": "code",
      "source": [
        "# num_cols = df.select_dtypes(include=['int64', 'float64']).columns\n",
        "num_colms = df._get_numeric_data()\n",
        "num_colms.head()\n",
        "# df['Ship Mode'].unique()\n",
        "# df['Ship Mode'].value_counts()\n",
        "# df['Segment'].value_counts()\n",
        "# df['Market'].value_counts()\n",
        "# df['Region'].value_counts()\n",
        "# df['Category'].value_counts()\n",
        "# df['Sub-Category'].value_counts()\n",
        "# df['Product Name'].value_counts()\n",
        "# df['Order Priority'].value_counts()"
      ],
      "metadata": {
        "colab": {
          "base_uri": "https://localhost:8080/",
          "height": 206
        },
        "id": "qUdaRyrzEMLI",
        "outputId": "0979fef6-18ca-464e-b5af-eb65f96d54ff"
      },
      "execution_count": 18,
      "outputs": [
        {
          "output_type": "execute_result",
          "data": {
            "text/plain": [
              "   Row ID  Postal Code     Sales  Quantity  Discount    Profit  Shipping Cost\n",
              "0   32298      10024.0  2309.650         7       0.0  762.1845         933.57\n",
              "1   26341          NaN  3709.395         9       0.1 -288.7650         923.63\n",
              "2   25330          NaN  5175.171         9       0.1  919.9710         915.49\n",
              "3   13524          NaN  2892.510         5       0.1  -96.5400         910.16\n",
              "4   47221          NaN  2832.960         8       0.0  311.5200         903.04"
            ],
            "text/html": [
              "\n",
              "  <div id=\"df-00b8e2ef-5038-4d52-b74b-cf6730d82aa4\">\n",
              "    <div class=\"colab-df-container\">\n",
              "      <div>\n",
              "<style scoped>\n",
              "    .dataframe tbody tr th:only-of-type {\n",
              "        vertical-align: middle;\n",
              "    }\n",
              "\n",
              "    .dataframe tbody tr th {\n",
              "        vertical-align: top;\n",
              "    }\n",
              "\n",
              "    .dataframe thead th {\n",
              "        text-align: right;\n",
              "    }\n",
              "</style>\n",
              "<table border=\"1\" class=\"dataframe\">\n",
              "  <thead>\n",
              "    <tr style=\"text-align: right;\">\n",
              "      <th></th>\n",
              "      <th>Row ID</th>\n",
              "      <th>Postal Code</th>\n",
              "      <th>Sales</th>\n",
              "      <th>Quantity</th>\n",
              "      <th>Discount</th>\n",
              "      <th>Profit</th>\n",
              "      <th>Shipping Cost</th>\n",
              "    </tr>\n",
              "  </thead>\n",
              "  <tbody>\n",
              "    <tr>\n",
              "      <th>0</th>\n",
              "      <td>32298</td>\n",
              "      <td>10024.0</td>\n",
              "      <td>2309.650</td>\n",
              "      <td>7</td>\n",
              "      <td>0.0</td>\n",
              "      <td>762.1845</td>\n",
              "      <td>933.57</td>\n",
              "    </tr>\n",
              "    <tr>\n",
              "      <th>1</th>\n",
              "      <td>26341</td>\n",
              "      <td>NaN</td>\n",
              "      <td>3709.395</td>\n",
              "      <td>9</td>\n",
              "      <td>0.1</td>\n",
              "      <td>-288.7650</td>\n",
              "      <td>923.63</td>\n",
              "    </tr>\n",
              "    <tr>\n",
              "      <th>2</th>\n",
              "      <td>25330</td>\n",
              "      <td>NaN</td>\n",
              "      <td>5175.171</td>\n",
              "      <td>9</td>\n",
              "      <td>0.1</td>\n",
              "      <td>919.9710</td>\n",
              "      <td>915.49</td>\n",
              "    </tr>\n",
              "    <tr>\n",
              "      <th>3</th>\n",
              "      <td>13524</td>\n",
              "      <td>NaN</td>\n",
              "      <td>2892.510</td>\n",
              "      <td>5</td>\n",
              "      <td>0.1</td>\n",
              "      <td>-96.5400</td>\n",
              "      <td>910.16</td>\n",
              "    </tr>\n",
              "    <tr>\n",
              "      <th>4</th>\n",
              "      <td>47221</td>\n",
              "      <td>NaN</td>\n",
              "      <td>2832.960</td>\n",
              "      <td>8</td>\n",
              "      <td>0.0</td>\n",
              "      <td>311.5200</td>\n",
              "      <td>903.04</td>\n",
              "    </tr>\n",
              "  </tbody>\n",
              "</table>\n",
              "</div>\n",
              "      <button class=\"colab-df-convert\" onclick=\"convertToInteractive('df-00b8e2ef-5038-4d52-b74b-cf6730d82aa4')\"\n",
              "              title=\"Convert this dataframe to an interactive table.\"\n",
              "              style=\"display:none;\">\n",
              "        \n",
              "  <svg xmlns=\"http://www.w3.org/2000/svg\" height=\"24px\"viewBox=\"0 0 24 24\"\n",
              "       width=\"24px\">\n",
              "    <path d=\"M0 0h24v24H0V0z\" fill=\"none\"/>\n",
              "    <path d=\"M18.56 5.44l.94 2.06.94-2.06 2.06-.94-2.06-.94-.94-2.06-.94 2.06-2.06.94zm-11 1L8.5 8.5l.94-2.06 2.06-.94-2.06-.94L8.5 2.5l-.94 2.06-2.06.94zm10 10l.94 2.06.94-2.06 2.06-.94-2.06-.94-.94-2.06-.94 2.06-2.06.94z\"/><path d=\"M17.41 7.96l-1.37-1.37c-.4-.4-.92-.59-1.43-.59-.52 0-1.04.2-1.43.59L10.3 9.45l-7.72 7.72c-.78.78-.78 2.05 0 2.83L4 21.41c.39.39.9.59 1.41.59.51 0 1.02-.2 1.41-.59l7.78-7.78 2.81-2.81c.8-.78.8-2.07 0-2.86zM5.41 20L4 18.59l7.72-7.72 1.47 1.35L5.41 20z\"/>\n",
              "  </svg>\n",
              "      </button>\n",
              "      \n",
              "  <style>\n",
              "    .colab-df-container {\n",
              "      display:flex;\n",
              "      flex-wrap:wrap;\n",
              "      gap: 12px;\n",
              "    }\n",
              "\n",
              "    .colab-df-convert {\n",
              "      background-color: #E8F0FE;\n",
              "      border: none;\n",
              "      border-radius: 50%;\n",
              "      cursor: pointer;\n",
              "      display: none;\n",
              "      fill: #1967D2;\n",
              "      height: 32px;\n",
              "      padding: 0 0 0 0;\n",
              "      width: 32px;\n",
              "    }\n",
              "\n",
              "    .colab-df-convert:hover {\n",
              "      background-color: #E2EBFA;\n",
              "      box-shadow: 0px 1px 2px rgba(60, 64, 67, 0.3), 0px 1px 3px 1px rgba(60, 64, 67, 0.15);\n",
              "      fill: #174EA6;\n",
              "    }\n",
              "\n",
              "    [theme=dark] .colab-df-convert {\n",
              "      background-color: #3B4455;\n",
              "      fill: #D2E3FC;\n",
              "    }\n",
              "\n",
              "    [theme=dark] .colab-df-convert:hover {\n",
              "      background-color: #434B5C;\n",
              "      box-shadow: 0px 1px 3px 1px rgba(0, 0, 0, 0.15);\n",
              "      filter: drop-shadow(0px 1px 2px rgba(0, 0, 0, 0.3));\n",
              "      fill: #FFFFFF;\n",
              "    }\n",
              "  </style>\n",
              "\n",
              "      <script>\n",
              "        const buttonEl =\n",
              "          document.querySelector('#df-00b8e2ef-5038-4d52-b74b-cf6730d82aa4 button.colab-df-convert');\n",
              "        buttonEl.style.display =\n",
              "          google.colab.kernel.accessAllowed ? 'block' : 'none';\n",
              "\n",
              "        async function convertToInteractive(key) {\n",
              "          const element = document.querySelector('#df-00b8e2ef-5038-4d52-b74b-cf6730d82aa4');\n",
              "          const dataTable =\n",
              "            await google.colab.kernel.invokeFunction('convertToInteractive',\n",
              "                                                     [key], {});\n",
              "          if (!dataTable) return;\n",
              "\n",
              "          const docLinkHtml = 'Like what you see? Visit the ' +\n",
              "            '<a target=\"_blank\" href=https://colab.research.google.com/notebooks/data_table.ipynb>data table notebook</a>'\n",
              "            + ' to learn more about interactive tables.';\n",
              "          element.innerHTML = '';\n",
              "          dataTable['output_type'] = 'display_data';\n",
              "          await google.colab.output.renderOutput(dataTable, element);\n",
              "          const docLink = document.createElement('div');\n",
              "          docLink.innerHTML = docLinkHtml;\n",
              "          element.appendChild(docLink);\n",
              "        }\n",
              "      </script>\n",
              "    </div>\n",
              "  </div>\n",
              "  "
            ]
          },
          "metadata": {},
          "execution_count": 18
        }
      ]
    },
    {
      "cell_type": "markdown",
      "source": [
        "#Customer Analysis"
      ],
      "metadata": {
        "id": "nIPdcKEoEWCx"
      }
    },
    {
      "cell_type": "markdown",
      "source": [
        "## 1. Profile the customers based on their frequency of purchase - calculate frequency of purchase for each customer and plot a histogram to get the threshold for Low/Mid/High frequency customers"
      ],
      "metadata": {
        "id": "LFuKn27rEXz9"
      }
    },
    {
      "cell_type": "code",
      "source": [
        "# purchase frequency = no of orders / no of unique customers (365 days)\n",
        "# df['Order ID'].groupby('Customer ID').count()"
      ],
      "metadata": {
        "id": "kK0m33urEp5V"
      },
      "execution_count": 19,
      "outputs": []
    },
    {
      "cell_type": "code",
      "source": [
        "df.nunique()"
      ],
      "metadata": {
        "colab": {
          "base_uri": "https://localhost:8080/"
        },
        "id": "9loqJFZUEsA5",
        "outputId": "cdf48727-ca69-4eb4-eb2c-711c5926ff21"
      },
      "execution_count": 20,
      "outputs": [
        {
          "output_type": "execute_result",
          "data": {
            "text/plain": [
              "Row ID            51290\n",
              "Order ID          25035\n",
              "Order Date         1430\n",
              "Ship Date          1464\n",
              "Ship Mode             4\n",
              "Customer ID        1590\n",
              "Customer Name       795\n",
              "Segment               3\n",
              "City               3636\n",
              "State              1094\n",
              "Country             147\n",
              "Postal Code         631\n",
              "Market                7\n",
              "Region               13\n",
              "Product ID        10292\n",
              "Category              3\n",
              "Sub-Category         17\n",
              "Product Name       3788\n",
              "Sales             22995\n",
              "Quantity             14\n",
              "Discount             27\n",
              "Profit            24575\n",
              "Shipping Cost     10037\n",
              "Order Priority        4\n",
              "dtype: int64"
            ]
          },
          "metadata": {},
          "execution_count": 20
        }
      ]
    },
    {
      "cell_type": "code",
      "source": [
        "df_customer = df[['Customer ID','Order ID','Order Date', 'Ship Date', 'Ship Mode','Country']]\n",
        "# .drop_duplicates()\n",
        "df_customer.count()"
      ],
      "metadata": {
        "colab": {
          "base_uri": "https://localhost:8080/"
        },
        "id": "hyyHVEjGExpy",
        "outputId": "13872eed-e09a-4ff2-920e-50c1cc354bb7"
      },
      "execution_count": 21,
      "outputs": [
        {
          "output_type": "execute_result",
          "data": {
            "text/plain": [
              "Customer ID    51290\n",
              "Order ID       51290\n",
              "Order Date     51290\n",
              "Ship Date      51290\n",
              "Ship Mode      51290\n",
              "Country        51290\n",
              "dtype: int64"
            ]
          },
          "metadata": {},
          "execution_count": 21
        }
      ]
    },
    {
      "cell_type": "code",
      "source": [
        "df_customer1 = df[['Customer ID','Order ID','Order Date', 'Ship Date', 'Ship Mode','Country']].drop_duplicates()\n",
        "df_customer1.count()"
      ],
      "metadata": {
        "colab": {
          "base_uri": "https://localhost:8080/"
        },
        "id": "ugKjmM3lE2uE",
        "outputId": "7fd3f732-3b34-4f67-dc18-6777a6852910"
      },
      "execution_count": 22,
      "outputs": [
        {
          "output_type": "execute_result",
          "data": {
            "text/plain": [
              "Customer ID    25754\n",
              "Order ID       25754\n",
              "Order Date     25754\n",
              "Ship Date      25754\n",
              "Ship Mode      25754\n",
              "Country        25754\n",
              "dtype: int64"
            ]
          },
          "metadata": {},
          "execution_count": 22
        }
      ]
    },
    {
      "cell_type": "code",
      "source": [
        "# df2 = df.drop_duplicates()\n",
        "# df2.shape\n",
        "# df_customer[[df_customer['Customer ID','Order ID','Order Date']].duplicated() == True]\n",
        "# df_customer['Customer ID'].nunique()\n",
        "df_customer1.head()"
      ],
      "metadata": {
        "colab": {
          "base_uri": "https://localhost:8080/",
          "height": 206
        },
        "id": "BKM4Iek_FM-F",
        "outputId": "47f495d7-2066-4396-8448-ab58cc08bdb4"
      },
      "execution_count": 23,
      "outputs": [
        {
          "output_type": "execute_result",
          "data": {
            "text/plain": [
              "  Customer ID         Order ID  Order Date   Ship Date     Ship Mode  \\\n",
              "0    RH-19495   CA-2012-124891  31-07-2012  31-07-2012      Same Day   \n",
              "1    JR-16210    IN-2013-77878  05-02-2013  07-02-2013  Second Class   \n",
              "2    CR-12730    IN-2013-71249  17-10-2013  18-10-2013   First Class   \n",
              "3    KM-16375  ES-2013-1579342  28-01-2013  30-01-2013   First Class   \n",
              "4     RH-9495     SG-2013-4320  05-11-2013  06-11-2013      Same Day   \n",
              "\n",
              "         Country  \n",
              "0  United States  \n",
              "1      Australia  \n",
              "2      Australia  \n",
              "3        Germany  \n",
              "4        Senegal  "
            ],
            "text/html": [
              "\n",
              "  <div id=\"df-7a84142b-fc33-47aa-9a1a-4e0d65e3b329\">\n",
              "    <div class=\"colab-df-container\">\n",
              "      <div>\n",
              "<style scoped>\n",
              "    .dataframe tbody tr th:only-of-type {\n",
              "        vertical-align: middle;\n",
              "    }\n",
              "\n",
              "    .dataframe tbody tr th {\n",
              "        vertical-align: top;\n",
              "    }\n",
              "\n",
              "    .dataframe thead th {\n",
              "        text-align: right;\n",
              "    }\n",
              "</style>\n",
              "<table border=\"1\" class=\"dataframe\">\n",
              "  <thead>\n",
              "    <tr style=\"text-align: right;\">\n",
              "      <th></th>\n",
              "      <th>Customer ID</th>\n",
              "      <th>Order ID</th>\n",
              "      <th>Order Date</th>\n",
              "      <th>Ship Date</th>\n",
              "      <th>Ship Mode</th>\n",
              "      <th>Country</th>\n",
              "    </tr>\n",
              "  </thead>\n",
              "  <tbody>\n",
              "    <tr>\n",
              "      <th>0</th>\n",
              "      <td>RH-19495</td>\n",
              "      <td>CA-2012-124891</td>\n",
              "      <td>31-07-2012</td>\n",
              "      <td>31-07-2012</td>\n",
              "      <td>Same Day</td>\n",
              "      <td>United States</td>\n",
              "    </tr>\n",
              "    <tr>\n",
              "      <th>1</th>\n",
              "      <td>JR-16210</td>\n",
              "      <td>IN-2013-77878</td>\n",
              "      <td>05-02-2013</td>\n",
              "      <td>07-02-2013</td>\n",
              "      <td>Second Class</td>\n",
              "      <td>Australia</td>\n",
              "    </tr>\n",
              "    <tr>\n",
              "      <th>2</th>\n",
              "      <td>CR-12730</td>\n",
              "      <td>IN-2013-71249</td>\n",
              "      <td>17-10-2013</td>\n",
              "      <td>18-10-2013</td>\n",
              "      <td>First Class</td>\n",
              "      <td>Australia</td>\n",
              "    </tr>\n",
              "    <tr>\n",
              "      <th>3</th>\n",
              "      <td>KM-16375</td>\n",
              "      <td>ES-2013-1579342</td>\n",
              "      <td>28-01-2013</td>\n",
              "      <td>30-01-2013</td>\n",
              "      <td>First Class</td>\n",
              "      <td>Germany</td>\n",
              "    </tr>\n",
              "    <tr>\n",
              "      <th>4</th>\n",
              "      <td>RH-9495</td>\n",
              "      <td>SG-2013-4320</td>\n",
              "      <td>05-11-2013</td>\n",
              "      <td>06-11-2013</td>\n",
              "      <td>Same Day</td>\n",
              "      <td>Senegal</td>\n",
              "    </tr>\n",
              "  </tbody>\n",
              "</table>\n",
              "</div>\n",
              "      <button class=\"colab-df-convert\" onclick=\"convertToInteractive('df-7a84142b-fc33-47aa-9a1a-4e0d65e3b329')\"\n",
              "              title=\"Convert this dataframe to an interactive table.\"\n",
              "              style=\"display:none;\">\n",
              "        \n",
              "  <svg xmlns=\"http://www.w3.org/2000/svg\" height=\"24px\"viewBox=\"0 0 24 24\"\n",
              "       width=\"24px\">\n",
              "    <path d=\"M0 0h24v24H0V0z\" fill=\"none\"/>\n",
              "    <path d=\"M18.56 5.44l.94 2.06.94-2.06 2.06-.94-2.06-.94-.94-2.06-.94 2.06-2.06.94zm-11 1L8.5 8.5l.94-2.06 2.06-.94-2.06-.94L8.5 2.5l-.94 2.06-2.06.94zm10 10l.94 2.06.94-2.06 2.06-.94-2.06-.94-.94-2.06-.94 2.06-2.06.94z\"/><path d=\"M17.41 7.96l-1.37-1.37c-.4-.4-.92-.59-1.43-.59-.52 0-1.04.2-1.43.59L10.3 9.45l-7.72 7.72c-.78.78-.78 2.05 0 2.83L4 21.41c.39.39.9.59 1.41.59.51 0 1.02-.2 1.41-.59l7.78-7.78 2.81-2.81c.8-.78.8-2.07 0-2.86zM5.41 20L4 18.59l7.72-7.72 1.47 1.35L5.41 20z\"/>\n",
              "  </svg>\n",
              "      </button>\n",
              "      \n",
              "  <style>\n",
              "    .colab-df-container {\n",
              "      display:flex;\n",
              "      flex-wrap:wrap;\n",
              "      gap: 12px;\n",
              "    }\n",
              "\n",
              "    .colab-df-convert {\n",
              "      background-color: #E8F0FE;\n",
              "      border: none;\n",
              "      border-radius: 50%;\n",
              "      cursor: pointer;\n",
              "      display: none;\n",
              "      fill: #1967D2;\n",
              "      height: 32px;\n",
              "      padding: 0 0 0 0;\n",
              "      width: 32px;\n",
              "    }\n",
              "\n",
              "    .colab-df-convert:hover {\n",
              "      background-color: #E2EBFA;\n",
              "      box-shadow: 0px 1px 2px rgba(60, 64, 67, 0.3), 0px 1px 3px 1px rgba(60, 64, 67, 0.15);\n",
              "      fill: #174EA6;\n",
              "    }\n",
              "\n",
              "    [theme=dark] .colab-df-convert {\n",
              "      background-color: #3B4455;\n",
              "      fill: #D2E3FC;\n",
              "    }\n",
              "\n",
              "    [theme=dark] .colab-df-convert:hover {\n",
              "      background-color: #434B5C;\n",
              "      box-shadow: 0px 1px 3px 1px rgba(0, 0, 0, 0.15);\n",
              "      filter: drop-shadow(0px 1px 2px rgba(0, 0, 0, 0.3));\n",
              "      fill: #FFFFFF;\n",
              "    }\n",
              "  </style>\n",
              "\n",
              "      <script>\n",
              "        const buttonEl =\n",
              "          document.querySelector('#df-7a84142b-fc33-47aa-9a1a-4e0d65e3b329 button.colab-df-convert');\n",
              "        buttonEl.style.display =\n",
              "          google.colab.kernel.accessAllowed ? 'block' : 'none';\n",
              "\n",
              "        async function convertToInteractive(key) {\n",
              "          const element = document.querySelector('#df-7a84142b-fc33-47aa-9a1a-4e0d65e3b329');\n",
              "          const dataTable =\n",
              "            await google.colab.kernel.invokeFunction('convertToInteractive',\n",
              "                                                     [key], {});\n",
              "          if (!dataTable) return;\n",
              "\n",
              "          const docLinkHtml = 'Like what you see? Visit the ' +\n",
              "            '<a target=\"_blank\" href=https://colab.research.google.com/notebooks/data_table.ipynb>data table notebook</a>'\n",
              "            + ' to learn more about interactive tables.';\n",
              "          element.innerHTML = '';\n",
              "          dataTable['output_type'] = 'display_data';\n",
              "          await google.colab.output.renderOutput(dataTable, element);\n",
              "          const docLink = document.createElement('div');\n",
              "          docLink.innerHTML = docLinkHtml;\n",
              "          element.appendChild(docLink);\n",
              "        }\n",
              "      </script>\n",
              "    </div>\n",
              "  </div>\n",
              "  "
            ]
          },
          "metadata": {},
          "execution_count": 23
        }
      ]
    },
    {
      "cell_type": "code",
      "source": [
        "df_customer1['Customer ID'].nunique()\n",
        "# there are only 1590 unique customer ids out of 25754 rows in the customer data"
      ],
      "metadata": {
        "colab": {
          "base_uri": "https://localhost:8080/"
        },
        "id": "3raC9uXqFUJ9",
        "outputId": "57a1894e-9e56-4418-8572-8b20dd0829ed"
      },
      "execution_count": 24,
      "outputs": [
        {
          "output_type": "execute_result",
          "data": {
            "text/plain": [
              "1590"
            ]
          },
          "metadata": {},
          "execution_count": 24
        }
      ]
    },
    {
      "cell_type": "code",
      "source": [
        "# First_Purchase_Date = pd.to_datetime(df['Order Date']).min()\n",
        "# latest_purchase_date = pd.to_datetime(df['Order Date']).max()\n",
        "# Total_shipping_cost = df['Shipping Cost'].sum()\n",
        "# total_sales = df['Sales'].sum()\n",
        "# unique_order_id = df['Order_id'].nunique()\n",
        "\n",
        "\n",
        "def new_features(x):\n",
        "    d = []\n",
        "    d.append(x['Order ID'].nunique())\n",
        "    d.append(x['Sales'].sum())\n",
        "    d.append(x['Shipping Cost'].sum())\n",
        "    d.append(pd.to_datetime(x['Order Date']).min())\n",
        "    d.append(pd.to_datetime(x['Order Date']).max())\n",
        "    d.append(x['City'].nunique())\n",
        "    return pd.Series(d, index=['Purchases','Total_Sales','Total_Cost','First_Purchase_Date','Latest_Purchase_Date','Location_Count'])\n",
        "\n",
        "df_customer_new = df.groupby('Customer ID').apply(new_features)"
      ],
      "metadata": {
        "id": "qParJXBCFf3t"
      },
      "execution_count": 25,
      "outputs": []
    },
    {
      "cell_type": "code",
      "source": [
        "df_customer_new.columns"
      ],
      "metadata": {
        "colab": {
          "base_uri": "https://localhost:8080/"
        },
        "id": "nW7uMAvoFsC5",
        "outputId": "29913e71-f311-4f3d-dd6e-1e5d72719cb1"
      },
      "execution_count": 26,
      "outputs": [
        {
          "output_type": "execute_result",
          "data": {
            "text/plain": [
              "Index(['Purchases', 'Total_Sales', 'Total_Cost', 'First_Purchase_Date',\n",
              "       'Latest_Purchase_Date', 'Location_Count'],\n",
              "      dtype='object')"
            ]
          },
          "metadata": {},
          "execution_count": 26
        }
      ]
    },
    {
      "cell_type": "code",
      "source": [
        "from datetime import datetime\n",
        "df_customer_new['Duration'] = (df_customer_new['Latest_Purchase_Date'] - df_customer_new['First_Purchase_Date']).dt.days"
      ],
      "metadata": {
        "id": "xv5RtUCSFthJ"
      },
      "execution_count": 27,
      "outputs": []
    },
    {
      "cell_type": "code",
      "source": [
        "df_customer_new['Frequency'] = df_customer_new['Duration']/df_customer_new['Purchases']\n",
        "df_customer_new['Frequency'].head()"
      ],
      "metadata": {
        "colab": {
          "base_uri": "https://localhost:8080/"
        },
        "id": "NPxbi8dxF3KG",
        "outputId": "b1c79a14-d4d6-48b6-9fb4-f007dd023ac9"
      },
      "execution_count": 28,
      "outputs": [
        {
          "output_type": "execute_result",
          "data": {
            "text/plain": [
              "Customer ID\n",
              "AA-10315     71.736842\n",
              "AA-10375     58.434783\n",
              "AA-10480     66.650000\n",
              "AA-10645     39.527778\n",
              "AA-315      177.285714\n",
              "Name: Frequency, dtype: float64"
            ]
          },
          "metadata": {},
          "execution_count": 28
        }
      ]
    },
    {
      "cell_type": "code",
      "source": [
        "df_customer_new.head()"
      ],
      "metadata": {
        "colab": {
          "base_uri": "https://localhost:8080/",
          "height": 238
        },
        "id": "dUAKXZT_F5tx",
        "outputId": "4c9e1fbc-65c1-4241-c1e6-ef6857552de7"
      },
      "execution_count": 29,
      "outputs": [
        {
          "output_type": "execute_result",
          "data": {
            "text/plain": [
              "             Purchases  Total_Sales  Total_Cost First_Purchase_Date  \\\n",
              "Customer ID                                                           \n",
              "AA-10315            19  13747.41300     1236.15          2011-03-31   \n",
              "AA-10375            23   5884.19500      903.92          2011-04-21   \n",
              "AA-10480            20  17695.58978     1633.67          2011-01-11   \n",
              "AA-10645            36  15343.89070     1752.27          2011-01-12   \n",
              "AA-315               7   2243.25600      215.80          2011-08-06   \n",
              "\n",
              "            Latest_Purchase_Date  Location_Count  Duration   Frequency  \n",
              "Customer ID                                                             \n",
              "AA-10315              2014-12-23              18      1363   71.736842  \n",
              "AA-10375              2014-12-25              23      1344   58.434783  \n",
              "AA-10480              2014-09-05              20      1333   66.650000  \n",
              "AA-10645              2014-12-05              35      1423   39.527778  \n",
              "AA-315                2014-12-29               7      1241  177.285714  "
            ],
            "text/html": [
              "\n",
              "  <div id=\"df-b87a76d1-6bb4-487c-9c70-ef6d5a2729af\">\n",
              "    <div class=\"colab-df-container\">\n",
              "      <div>\n",
              "<style scoped>\n",
              "    .dataframe tbody tr th:only-of-type {\n",
              "        vertical-align: middle;\n",
              "    }\n",
              "\n",
              "    .dataframe tbody tr th {\n",
              "        vertical-align: top;\n",
              "    }\n",
              "\n",
              "    .dataframe thead th {\n",
              "        text-align: right;\n",
              "    }\n",
              "</style>\n",
              "<table border=\"1\" class=\"dataframe\">\n",
              "  <thead>\n",
              "    <tr style=\"text-align: right;\">\n",
              "      <th></th>\n",
              "      <th>Purchases</th>\n",
              "      <th>Total_Sales</th>\n",
              "      <th>Total_Cost</th>\n",
              "      <th>First_Purchase_Date</th>\n",
              "      <th>Latest_Purchase_Date</th>\n",
              "      <th>Location_Count</th>\n",
              "      <th>Duration</th>\n",
              "      <th>Frequency</th>\n",
              "    </tr>\n",
              "    <tr>\n",
              "      <th>Customer ID</th>\n",
              "      <th></th>\n",
              "      <th></th>\n",
              "      <th></th>\n",
              "      <th></th>\n",
              "      <th></th>\n",
              "      <th></th>\n",
              "      <th></th>\n",
              "      <th></th>\n",
              "    </tr>\n",
              "  </thead>\n",
              "  <tbody>\n",
              "    <tr>\n",
              "      <th>AA-10315</th>\n",
              "      <td>19</td>\n",
              "      <td>13747.41300</td>\n",
              "      <td>1236.15</td>\n",
              "      <td>2011-03-31</td>\n",
              "      <td>2014-12-23</td>\n",
              "      <td>18</td>\n",
              "      <td>1363</td>\n",
              "      <td>71.736842</td>\n",
              "    </tr>\n",
              "    <tr>\n",
              "      <th>AA-10375</th>\n",
              "      <td>23</td>\n",
              "      <td>5884.19500</td>\n",
              "      <td>903.92</td>\n",
              "      <td>2011-04-21</td>\n",
              "      <td>2014-12-25</td>\n",
              "      <td>23</td>\n",
              "      <td>1344</td>\n",
              "      <td>58.434783</td>\n",
              "    </tr>\n",
              "    <tr>\n",
              "      <th>AA-10480</th>\n",
              "      <td>20</td>\n",
              "      <td>17695.58978</td>\n",
              "      <td>1633.67</td>\n",
              "      <td>2011-01-11</td>\n",
              "      <td>2014-09-05</td>\n",
              "      <td>20</td>\n",
              "      <td>1333</td>\n",
              "      <td>66.650000</td>\n",
              "    </tr>\n",
              "    <tr>\n",
              "      <th>AA-10645</th>\n",
              "      <td>36</td>\n",
              "      <td>15343.89070</td>\n",
              "      <td>1752.27</td>\n",
              "      <td>2011-01-12</td>\n",
              "      <td>2014-12-05</td>\n",
              "      <td>35</td>\n",
              "      <td>1423</td>\n",
              "      <td>39.527778</td>\n",
              "    </tr>\n",
              "    <tr>\n",
              "      <th>AA-315</th>\n",
              "      <td>7</td>\n",
              "      <td>2243.25600</td>\n",
              "      <td>215.80</td>\n",
              "      <td>2011-08-06</td>\n",
              "      <td>2014-12-29</td>\n",
              "      <td>7</td>\n",
              "      <td>1241</td>\n",
              "      <td>177.285714</td>\n",
              "    </tr>\n",
              "  </tbody>\n",
              "</table>\n",
              "</div>\n",
              "      <button class=\"colab-df-convert\" onclick=\"convertToInteractive('df-b87a76d1-6bb4-487c-9c70-ef6d5a2729af')\"\n",
              "              title=\"Convert this dataframe to an interactive table.\"\n",
              "              style=\"display:none;\">\n",
              "        \n",
              "  <svg xmlns=\"http://www.w3.org/2000/svg\" height=\"24px\"viewBox=\"0 0 24 24\"\n",
              "       width=\"24px\">\n",
              "    <path d=\"M0 0h24v24H0V0z\" fill=\"none\"/>\n",
              "    <path d=\"M18.56 5.44l.94 2.06.94-2.06 2.06-.94-2.06-.94-.94-2.06-.94 2.06-2.06.94zm-11 1L8.5 8.5l.94-2.06 2.06-.94-2.06-.94L8.5 2.5l-.94 2.06-2.06.94zm10 10l.94 2.06.94-2.06 2.06-.94-2.06-.94-.94-2.06-.94 2.06-2.06.94z\"/><path d=\"M17.41 7.96l-1.37-1.37c-.4-.4-.92-.59-1.43-.59-.52 0-1.04.2-1.43.59L10.3 9.45l-7.72 7.72c-.78.78-.78 2.05 0 2.83L4 21.41c.39.39.9.59 1.41.59.51 0 1.02-.2 1.41-.59l7.78-7.78 2.81-2.81c.8-.78.8-2.07 0-2.86zM5.41 20L4 18.59l7.72-7.72 1.47 1.35L5.41 20z\"/>\n",
              "  </svg>\n",
              "      </button>\n",
              "      \n",
              "  <style>\n",
              "    .colab-df-container {\n",
              "      display:flex;\n",
              "      flex-wrap:wrap;\n",
              "      gap: 12px;\n",
              "    }\n",
              "\n",
              "    .colab-df-convert {\n",
              "      background-color: #E8F0FE;\n",
              "      border: none;\n",
              "      border-radius: 50%;\n",
              "      cursor: pointer;\n",
              "      display: none;\n",
              "      fill: #1967D2;\n",
              "      height: 32px;\n",
              "      padding: 0 0 0 0;\n",
              "      width: 32px;\n",
              "    }\n",
              "\n",
              "    .colab-df-convert:hover {\n",
              "      background-color: #E2EBFA;\n",
              "      box-shadow: 0px 1px 2px rgba(60, 64, 67, 0.3), 0px 1px 3px 1px rgba(60, 64, 67, 0.15);\n",
              "      fill: #174EA6;\n",
              "    }\n",
              "\n",
              "    [theme=dark] .colab-df-convert {\n",
              "      background-color: #3B4455;\n",
              "      fill: #D2E3FC;\n",
              "    }\n",
              "\n",
              "    [theme=dark] .colab-df-convert:hover {\n",
              "      background-color: #434B5C;\n",
              "      box-shadow: 0px 1px 3px 1px rgba(0, 0, 0, 0.15);\n",
              "      filter: drop-shadow(0px 1px 2px rgba(0, 0, 0, 0.3));\n",
              "      fill: #FFFFFF;\n",
              "    }\n",
              "  </style>\n",
              "\n",
              "      <script>\n",
              "        const buttonEl =\n",
              "          document.querySelector('#df-b87a76d1-6bb4-487c-9c70-ef6d5a2729af button.colab-df-convert');\n",
              "        buttonEl.style.display =\n",
              "          google.colab.kernel.accessAllowed ? 'block' : 'none';\n",
              "\n",
              "        async function convertToInteractive(key) {\n",
              "          const element = document.querySelector('#df-b87a76d1-6bb4-487c-9c70-ef6d5a2729af');\n",
              "          const dataTable =\n",
              "            await google.colab.kernel.invokeFunction('convertToInteractive',\n",
              "                                                     [key], {});\n",
              "          if (!dataTable) return;\n",
              "\n",
              "          const docLinkHtml = 'Like what you see? Visit the ' +\n",
              "            '<a target=\"_blank\" href=https://colab.research.google.com/notebooks/data_table.ipynb>data table notebook</a>'\n",
              "            + ' to learn more about interactive tables.';\n",
              "          element.innerHTML = '';\n",
              "          dataTable['output_type'] = 'display_data';\n",
              "          await google.colab.output.renderOutput(dataTable, element);\n",
              "          const docLink = document.createElement('div');\n",
              "          docLink.innerHTML = docLinkHtml;\n",
              "          element.appendChild(docLink);\n",
              "        }\n",
              "      </script>\n",
              "    </div>\n",
              "  </div>\n",
              "  "
            ]
          },
          "metadata": {},
          "execution_count": 29
        }
      ]
    },
    {
      "cell_type": "code",
      "source": [
        "df_customer_new['Frequency'].describe()"
      ],
      "metadata": {
        "colab": {
          "base_uri": "https://localhost:8080/"
        },
        "id": "6SOFOoLjF8vO",
        "outputId": "5a4ee42d-a14b-43fb-d5a7-5fc187324806"
      },
      "execution_count": 30,
      "outputs": [
        {
          "output_type": "execute_result",
          "data": {
            "text/plain": [
              "count    1590.000000\n",
              "mean      111.303339\n",
              "std        80.489358\n",
              "min         0.000000\n",
              "25%        50.669643\n",
              "50%        73.055728\n",
              "75%       155.083333\n",
              "max       655.500000\n",
              "Name: Frequency, dtype: float64"
            ]
          },
          "metadata": {},
          "execution_count": 30
        }
      ]
    },
    {
      "cell_type": "code",
      "source": [
        "# df_customer_new['Duration'].describe()\n",
        "# Total time duration = approx 3.7 years"
      ],
      "metadata": {
        "id": "Rj_U6XzrGFKJ"
      },
      "execution_count": 31,
      "outputs": []
    },
    {
      "cell_type": "code",
      "source": [
        "# 1. Profile the customers based on their frequency of purchase - calculate frequency of purchase for\n",
        "# each customer and plot a histogram to get the threshold for Low/Mid/High frequency customers\n",
        "\n",
        "plt.hist(df_customer_new['Frequency'], bins=3)\n",
        "plt.xlabel('frequency of purchase')\n",
        "plt.show()"
      ],
      "metadata": {
        "colab": {
          "base_uri": "https://localhost:8080/",
          "height": 279
        },
        "id": "LDz5NdXkGIbF",
        "outputId": "2dc2f142-0fde-4d06-cc33-8e965b73f5a8"
      },
      "execution_count": 32,
      "outputs": [
        {
          "output_type": "display_data",
          "data": {
            "text/plain": [
              "<Figure size 432x288 with 1 Axes>"
            ],
            "image/png": "[encoded data removed]"
          },
          "metadata": {
            "needs_background": "light"
          }
        }
      ]
    },
    {
      "cell_type": "code",
      "source": [
        "# bucketing continuous data\n",
        "def freq(x):\n",
        "    if x < 219:\n",
        "        return 'Low' \n",
        "    elif x < 436:\n",
        "        return 'Mid' \n",
        "    else:\n",
        "        return 'High'\n",
        "\n",
        "df_customer_new['freq_range'] = df_customer_new.Frequency.apply(freq)\n",
        "\n",
        "df_customer_new['freq_range'].value_counts()"
      ],
      "metadata": {
        "colab": {
          "base_uri": "https://localhost:8080/"
        },
        "id": "CWkSc2oYGKvN",
        "outputId": "a1e9d5e9-3f65-4b35-de42-7a985fc1953a"
      },
      "execution_count": 33,
      "outputs": [
        {
          "output_type": "execute_result",
          "data": {
            "text/plain": [
              "Low     1442\n",
              "Mid      138\n",
              "High      10\n",
              "Name: freq_range, dtype: int64"
            ]
          },
          "metadata": {},
          "execution_count": 33
        }
      ]
    },
    {
      "cell_type": "markdown",
      "source": [
        "# 2.  profiling based on purchase frequency"
      ],
      "metadata": {
        "id": "ENo4Z_f5lESd"
      }
    },
    {
      "cell_type": "code",
      "source": [
        "df_customer_new.head()"
      ],
      "metadata": {
        "colab": {
          "base_uri": "https://localhost:8080/",
          "height": 238
        },
        "id": "RWihQEEQGPb3",
        "outputId": "2f80f257-3692-49df-fd30-361ed13fa7fb"
      },
      "execution_count": 34,
      "outputs": [
        {
          "output_type": "execute_result",
          "data": {
            "text/plain": [
              "             Purchases  Total_Sales  Total_Cost First_Purchase_Date  \\\n",
              "Customer ID                                                           \n",
              "AA-10315            19  13747.41300     1236.15          2011-03-31   \n",
              "AA-10375            23   5884.19500      903.92          2011-04-21   \n",
              "AA-10480            20  17695.58978     1633.67          2011-01-11   \n",
              "AA-10645            36  15343.89070     1752.27          2011-01-12   \n",
              "AA-315               7   2243.25600      215.80          2011-08-06   \n",
              "\n",
              "            Latest_Purchase_Date  Location_Count  Duration   Frequency  \\\n",
              "Customer ID                                                              \n",
              "AA-10315              2014-12-23              18      1363   71.736842   \n",
              "AA-10375              2014-12-25              23      1344   58.434783   \n",
              "AA-10480              2014-09-05              20      1333   66.650000   \n",
              "AA-10645              2014-12-05              35      1423   39.527778   \n",
              "AA-315                2014-12-29               7      1241  177.285714   \n",
              "\n",
              "            freq_range  \n",
              "Customer ID             \n",
              "AA-10315           Low  \n",
              "AA-10375           Low  \n",
              "AA-10480           Low  \n",
              "AA-10645           Low  \n",
              "AA-315             Low  "
            ],
            "text/html": [
              "\n",
              "  <div id=\"df-0eec10e2-8b6e-4560-8db6-f2cb790023d2\">\n",
              "    <div class=\"colab-df-container\">\n",
              "      <div>\n",
              "<style scoped>\n",
              "    .dataframe tbody tr th:only-of-type {\n",
              "        vertical-align: middle;\n",
              "    }\n",
              "\n",
              "    .dataframe tbody tr th {\n",
              "        vertical-align: top;\n",
              "    }\n",
              "\n",
              "    .dataframe thead th {\n",
              "        text-align: right;\n",
              "    }\n",
              "</style>\n",
              "<table border=\"1\" class=\"dataframe\">\n",
              "  <thead>\n",
              "    <tr style=\"text-align: right;\">\n",
              "      <th></th>\n",
              "      <th>Purchases</th>\n",
              "      <th>Total_Sales</th>\n",
              "      <th>Total_Cost</th>\n",
              "      <th>First_Purchase_Date</th>\n",
              "      <th>Latest_Purchase_Date</th>\n",
              "      <th>Location_Count</th>\n",
              "      <th>Duration</th>\n",
              "      <th>Frequency</th>\n",
              "      <th>freq_range</th>\n",
              "    </tr>\n",
              "    <tr>\n",
              "      <th>Customer ID</th>\n",
              "      <th></th>\n",
              "      <th></th>\n",
              "      <th></th>\n",
              "      <th></th>\n",
              "      <th></th>\n",
              "      <th></th>\n",
              "      <th></th>\n",
              "      <th></th>\n",
              "      <th></th>\n",
              "    </tr>\n",
              "  </thead>\n",
              "  <tbody>\n",
              "    <tr>\n",
              "      <th>AA-10315</th>\n",
              "      <td>19</td>\n",
              "      <td>13747.41300</td>\n",
              "      <td>1236.15</td>\n",
              "      <td>2011-03-31</td>\n",
              "      <td>2014-12-23</td>\n",
              "      <td>18</td>\n",
              "      <td>1363</td>\n",
              "      <td>71.736842</td>\n",
              "      <td>Low</td>\n",
              "    </tr>\n",
              "    <tr>\n",
              "      <th>AA-10375</th>\n",
              "      <td>23</td>\n",
              "      <td>5884.19500</td>\n",
              "      <td>903.92</td>\n",
              "      <td>2011-04-21</td>\n",
              "      <td>2014-12-25</td>\n",
              "      <td>23</td>\n",
              "      <td>1344</td>\n",
              "      <td>58.434783</td>\n",
              "      <td>Low</td>\n",
              "    </tr>\n",
              "    <tr>\n",
              "      <th>AA-10480</th>\n",
              "      <td>20</td>\n",
              "      <td>17695.58978</td>\n",
              "      <td>1633.67</td>\n",
              "      <td>2011-01-11</td>\n",
              "      <td>2014-09-05</td>\n",
              "      <td>20</td>\n",
              "      <td>1333</td>\n",
              "      <td>66.650000</td>\n",
              "      <td>Low</td>\n",
              "    </tr>\n",
              "    <tr>\n",
              "      <th>AA-10645</th>\n",
              "      <td>36</td>\n",
              "      <td>15343.89070</td>\n",
              "      <td>1752.27</td>\n",
              "      <td>2011-01-12</td>\n",
              "      <td>2014-12-05</td>\n",
              "      <td>35</td>\n",
              "      <td>1423</td>\n",
              "      <td>39.527778</td>\n",
              "      <td>Low</td>\n",
              "    </tr>\n",
              "    <tr>\n",
              "      <th>AA-315</th>\n",
              "      <td>7</td>\n",
              "      <td>2243.25600</td>\n",
              "      <td>215.80</td>\n",
              "      <td>2011-08-06</td>\n",
              "      <td>2014-12-29</td>\n",
              "      <td>7</td>\n",
              "      <td>1241</td>\n",
              "      <td>177.285714</td>\n",
              "      <td>Low</td>\n",
              "    </tr>\n",
              "  </tbody>\n",
              "</table>\n",
              "</div>\n",
              "      <button class=\"colab-df-convert\" onclick=\"convertToInteractive('df-0eec10e2-8b6e-4560-8db6-f2cb790023d2')\"\n",
              "              title=\"Convert this dataframe to an interactive table.\"\n",
              "              style=\"display:none;\">\n",
              "        \n",
              "  <svg xmlns=\"http://www.w3.org/2000/svg\" height=\"24px\"viewBox=\"0 0 24 24\"\n",
              "       width=\"24px\">\n",
              "    <path d=\"M0 0h24v24H0V0z\" fill=\"none\"/>\n",
              "    <path d=\"M18.56 5.44l.94 2.06.94-2.06 2.06-.94-2.06-.94-.94-2.06-.94 2.06-2.06.94zm-11 1L8.5 8.5l.94-2.06 2.06-.94-2.06-.94L8.5 2.5l-.94 2.06-2.06.94zm10 10l.94 2.06.94-2.06 2.06-.94-2.06-.94-.94-2.06-.94 2.06-2.06.94z\"/><path d=\"M17.41 7.96l-1.37-1.37c-.4-.4-.92-.59-1.43-.59-.52 0-1.04.2-1.43.59L10.3 9.45l-7.72 7.72c-.78.78-.78 2.05 0 2.83L4 21.41c.39.39.9.59 1.41.59.51 0 1.02-.2 1.41-.59l7.78-7.78 2.81-2.81c.8-.78.8-2.07 0-2.86zM5.41 20L4 18.59l7.72-7.72 1.47 1.35L5.41 20z\"/>\n",
              "  </svg>\n",
              "      </button>\n",
              "      \n",
              "  <style>\n",
              "    .colab-df-container {\n",
              "      display:flex;\n",
              "      flex-wrap:wrap;\n",
              "      gap: 12px;\n",
              "    }\n",
              "\n",
              "    .colab-df-convert {\n",
              "      background-color: #E8F0FE;\n",
              "      border: none;\n",
              "      border-radius: 50%;\n",
              "      cursor: pointer;\n",
              "      display: none;\n",
              "      fill: #1967D2;\n",
              "      height: 32px;\n",
              "      padding: 0 0 0 0;\n",
              "      width: 32px;\n",
              "    }\n",
              "\n",
              "    .colab-df-convert:hover {\n",
              "      background-color: #E2EBFA;\n",
              "      box-shadow: 0px 1px 2px rgba(60, 64, 67, 0.3), 0px 1px 3px 1px rgba(60, 64, 67, 0.15);\n",
              "      fill: #174EA6;\n",
              "    }\n",
              "\n",
              "    [theme=dark] .colab-df-convert {\n",
              "      background-color: #3B4455;\n",
              "      fill: #D2E3FC;\n",
              "    }\n",
              "\n",
              "    [theme=dark] .colab-df-convert:hover {\n",
              "      background-color: #434B5C;\n",
              "      box-shadow: 0px 1px 3px 1px rgba(0, 0, 0, 0.15);\n",
              "      filter: drop-shadow(0px 1px 2px rgba(0, 0, 0, 0.3));\n",
              "      fill: #FFFFFF;\n",
              "    }\n",
              "  </style>\n",
              "\n",
              "      <script>\n",
              "        const buttonEl =\n",
              "          document.querySelector('#df-0eec10e2-8b6e-4560-8db6-f2cb790023d2 button.colab-df-convert');\n",
              "        buttonEl.style.display =\n",
              "          google.colab.kernel.accessAllowed ? 'block' : 'none';\n",
              "\n",
              "        async function convertToInteractive(key) {\n",
              "          const element = document.querySelector('#df-0eec10e2-8b6e-4560-8db6-f2cb790023d2');\n",
              "          const dataTable =\n",
              "            await google.colab.kernel.invokeFunction('convertToInteractive',\n",
              "                                                     [key], {});\n",
              "          if (!dataTable) return;\n",
              "\n",
              "          const docLinkHtml = 'Like what you see? Visit the ' +\n",
              "            '<a target=\"_blank\" href=https://colab.research.google.com/notebooks/data_table.ipynb>data table notebook</a>'\n",
              "            + ' to learn more about interactive tables.';\n",
              "          element.innerHTML = '';\n",
              "          dataTable['output_type'] = 'display_data';\n",
              "          await google.colab.output.renderOutput(dataTable, element);\n",
              "          const docLink = document.createElement('div');\n",
              "          docLink.innerHTML = docLinkHtml;\n",
              "          element.appendChild(docLink);\n",
              "        }\n",
              "      </script>\n",
              "    </div>\n",
              "  </div>\n",
              "  "
            ]
          },
          "metadata": {},
          "execution_count": 34
        }
      ]
    },
    {
      "cell_type": "markdown",
      "source": [
        "2.Are the high frequent customers contributing more revenue"
      ],
      "metadata": {
        "id": "P-V4LBQFGVvr"
      }
    },
    {
      "cell_type": "code",
      "source": [
        "result = df.groupby([\"Customer Name\"])['Profit'].aggregate(np.sum).reset_index().sort_values('Profit',ascending = False).head(20)"
      ],
      "metadata": {
        "id": "2AsMlqt6GWfN"
      },
      "execution_count": 35,
      "outputs": []
    },
    {
      "cell_type": "markdown",
      "source": [
        "# 3. revenue = sales *  quantity "
      ],
      "metadata": {
        "id": "6--o9gI8lI81"
      }
    },
    {
      "cell_type": "code",
      "source": [
        "df_customer_new['Revenue'] = df_customer_new['Purchases'] *  df_customer_new['Total_Sales']"
      ],
      "metadata": {
        "id": "U1n5IEAkGc5y"
      },
      "execution_count": 36,
      "outputs": []
    },
    {
      "cell_type": "code",
      "source": [
        "sns.catplot(x=\"freq_range\", y=\"Revenue\", kind=\"bar\", data=df_customer_new);"
      ],
      "metadata": {
        "colab": {
          "base_uri": "https://localhost:8080/",
          "height": 369
        },
        "id": "ylQFwaV7GhUx",
        "outputId": "dfcf775b-6baf-4c7e-a5e8-f08ddd0fdda6"
      },
      "execution_count": 37,
      "outputs": [
        {
          "output_type": "display_data",
          "data": {
            "text/plain": [
              "<Figure size 360x360 with 1 Axes>"
            ],
            "image/png": "[encoded data removed]"
          },
          "metadata": {
            "needs_background": "light"
          }
        }
      ]
    },
    {
      "cell_type": "markdown",
      "source": [
        "From the graph we can see that the high frequent customers are contrinuting less\n",
        "\n",
        " Are they also profitable - what is the profit margin across the buckets"
      ],
      "metadata": {
        "id": "C2W_waq7GmX3"
      }
    },
    {
      "cell_type": "code",
      "source": [
        "profit_margin = df_customer_new.groupby('freq_range')"
      ],
      "metadata": {
        "id": "juEZtDzrGi6Z"
      },
      "execution_count": 38,
      "outputs": []
    },
    {
      "cell_type": "code",
      "source": [
        "profit_margin"
      ],
      "metadata": {
        "colab": {
          "base_uri": "https://localhost:8080/"
        },
        "id": "4Vus1etiGtO-",
        "outputId": "6a6d4c0d-d184-4bb8-d7c8-b25705347c08"
      },
      "execution_count": 39,
      "outputs": [
        {
          "output_type": "execute_result",
          "data": {
            "text/plain": [
              "<pandas.core.groupby.generic.DataFrameGroupBy object at 0x7f1fc5421d50>"
            ]
          },
          "metadata": {},
          "execution_count": 39
        }
      ]
    },
    {
      "cell_type": "markdown",
      "source": [
        "# 4. Which customer segment is most profitable in each year ( there is a column called customer segment )"
      ],
      "metadata": {
        "id": "uMxJuXF0lRKE"
      }
    },
    {
      "cell_type": "code",
      "source": [
        "df.Segment.value_counts()"
      ],
      "metadata": {
        "colab": {
          "base_uri": "https://localhost:8080/"
        },
        "id": "w9g0B9K9G0re",
        "outputId": "0a9bb08d-6d2f-48cf-e476-f682aadbf49e"
      },
      "execution_count": 40,
      "outputs": [
        {
          "output_type": "execute_result",
          "data": {
            "text/plain": [
              "Consumer       26518\n",
              "Corporate      15429\n",
              "Home Office     9343\n",
              "Name: Segment, dtype: int64"
            ]
          },
          "metadata": {},
          "execution_count": 40
        }
      ]
    },
    {
      "cell_type": "code",
      "source": [
        "sns.countplot(x=\"Segment\",data = df)"
      ],
      "metadata": {
        "colab": {
          "base_uri": "https://localhost:8080/",
          "height": 296
        },
        "id": "sbFC21zLG3Xe",
        "outputId": "b1196d22-7fc7-4574-ac45-edb04d115bb8"
      },
      "execution_count": 41,
      "outputs": [
        {
          "output_type": "execute_result",
          "data": {
            "text/plain": [
              "<matplotlib.axes._subplots.AxesSubplot at 0x7f1fc59577d0>"
            ]
          },
          "metadata": {},
          "execution_count": 41
        },
        {
          "output_type": "display_data",
          "data": {
            "text/plain": [
              "<Figure size 432x288 with 1 Axes>"
            ],
            "image/png": "[encoded data removed]"
          },
          "metadata": {
            "needs_background": "light"
          }
        }
      ]
    },
    {
      "cell_type": "code",
      "source": [
        "df_x = df\n",
        "df_x['year'] = pd.DatetimeIndex(df['Order Date']).year\n",
        "df_x.head()"
      ],
      "metadata": {
        "colab": {
          "base_uri": "https://localhost:8080/",
          "height": 384
        },
        "id": "HeRZFHpOG5KF",
        "outputId": "761aa2a6-8bf5-458c-b0f6-93fbd33b2468"
      },
      "execution_count": 42,
      "outputs": [
        {
          "output_type": "execute_result",
          "data": {
            "text/plain": [
              "   Row ID         Order ID  Order Date   Ship Date     Ship Mode Customer ID  \\\n",
              "0   32298   CA-2012-124891  31-07-2012  31-07-2012      Same Day    RH-19495   \n",
              "1   26341    IN-2013-77878  05-02-2013  07-02-2013  Second Class    JR-16210   \n",
              "2   25330    IN-2013-71249  17-10-2013  18-10-2013   First Class    CR-12730   \n",
              "3   13524  ES-2013-1579342  28-01-2013  30-01-2013   First Class    KM-16375   \n",
              "4   47221     SG-2013-4320  05-11-2013  06-11-2013      Same Day     RH-9495   \n",
              "\n",
              "      Customer Name      Segment           City            State  ...  \\\n",
              "0       Rick Hansen     Consumer  New York City         New York  ...   \n",
              "1     Justin Ritter    Corporate     Wollongong  New South Wales  ...   \n",
              "2      Craig Reiter     Consumer       Brisbane       Queensland  ...   \n",
              "3  Katherine Murray  Home Office         Berlin           Berlin  ...   \n",
              "4       Rick Hansen     Consumer          Dakar            Dakar  ...   \n",
              "\n",
              "     Category  Sub-Category  \\\n",
              "0  Technology   Accessories   \n",
              "1   Furniture        Chairs   \n",
              "2  Technology        Phones   \n",
              "3  Technology        Phones   \n",
              "4  Technology       Copiers   \n",
              "\n",
              "                                        Product Name     Sales Quantity  \\\n",
              "0  Plantronics CS510 - Over-the-Head monaural Wir...  2309.650        7   \n",
              "1          Novimex Executive Leather Armchair, Black  3709.395        9   \n",
              "2                  Nokia Smart Phone, with Caller ID  5175.171        9   \n",
              "3                     Motorola Smart Phone, Cordless  2892.510        5   \n",
              "4                     Sharp Wireless Fax, High-Speed  2832.960        8   \n",
              "\n",
              "  Discount    Profit Shipping Cost  Order Priority  year  \n",
              "0      0.0  762.1845        933.57        Critical  2012  \n",
              "1      0.1 -288.7650        923.63        Critical  2013  \n",
              "2      0.1  919.9710        915.49          Medium  2013  \n",
              "3      0.1  -96.5400        910.16          Medium  2013  \n",
              "4      0.0  311.5200        903.04        Critical  2013  \n",
              "\n",
              "[5 rows x 25 columns]"
            ],
            "text/html": [
              "\n",
              "  <div id=\"df-4896a8e7-7480-4d3e-b905-7aeac3f81574\">\n",
              "    <div class=\"colab-df-container\">\n",
              "      <div>\n",
              "<style scoped>\n",
              "    .dataframe tbody tr th:only-of-type {\n",
              "        vertical-align: middle;\n",
              "    }\n",
              "\n",
              "    .dataframe tbody tr th {\n",
              "        vertical-align: top;\n",
              "    }\n",
              "\n",
              "    .dataframe thead th {\n",
              "        text-align: right;\n",
              "    }\n",
              "</style>\n",
              "<table border=\"1\" class=\"dataframe\">\n",
              "  <thead>\n",
              "    <tr style=\"text-align: right;\">\n",
              "      <th></th>\n",
              "      <th>Row ID</th>\n",
              "      <th>Order ID</th>\n",
              "      <th>Order Date</th>\n",
              "      <th>Ship Date</th>\n",
              "      <th>Ship Mode</th>\n",
              "      <th>Customer ID</th>\n",
              "      <th>Customer Name</th>\n",
              "      <th>Segment</th>\n",
              "      <th>City</th>\n",
              "      <th>State</th>\n",
              "      <th>...</th>\n",
              "      <th>Category</th>\n",
              "      <th>Sub-Category</th>\n",
              "      <th>Product Name</th>\n",
              "      <th>Sales</th>\n",
              "      <th>Quantity</th>\n",
              "      <th>Discount</th>\n",
              "      <th>Profit</th>\n",
              "      <th>Shipping Cost</th>\n",
              "      <th>Order Priority</th>\n",
              "      <th>year</th>\n",
              "    </tr>\n",
              "  </thead>\n",
              "  <tbody>\n",
              "    <tr>\n",
              "      <th>0</th>\n",
              "      <td>32298</td>\n",
              "      <td>CA-2012-124891</td>\n",
              "      <td>31-07-2012</td>\n",
              "      <td>31-07-2012</td>\n",
              "      <td>Same Day</td>\n",
              "      <td>RH-19495</td>\n",
              "      <td>Rick Hansen</td>\n",
              "      <td>Consumer</td>\n",
              "      <td>New York City</td>\n",
              "      <td>New York</td>\n",
              "      <td>...</td>\n",
              "      <td>Technology</td>\n",
              "      <td>Accessories</td>\n",
              "      <td>Plantronics CS510 - Over-the-Head monaural Wir...</td>\n",
              "      <td>2309.650</td>\n",
              "      <td>7</td>\n",
              "      <td>0.0</td>\n",
              "      <td>762.1845</td>\n",
              "      <td>933.57</td>\n",
              "      <td>Critical</td>\n",
              "      <td>2012</td>\n",
              "    </tr>\n",
              "    <tr>\n",
              "      <th>1</th>\n",
              "      <td>26341</td>\n",
              "      <td>IN-2013-77878</td>\n",
              "      <td>05-02-2013</td>\n",
              "      <td>07-02-2013</td>\n",
              "      <td>Second Class</td>\n",
              "      <td>JR-16210</td>\n",
              "      <td>Justin Ritter</td>\n",
              "      <td>Corporate</td>\n",
              "      <td>Wollongong</td>\n",
              "      <td>New South Wales</td>\n",
              "      <td>...</td>\n",
              "      <td>Furniture</td>\n",
              "      <td>Chairs</td>\n",
              "      <td>Novimex Executive Leather Armchair, Black</td>\n",
              "      <td>3709.395</td>\n",
              "      <td>9</td>\n",
              "      <td>0.1</td>\n",
              "      <td>-288.7650</td>\n",
              "      <td>923.63</td>\n",
              "      <td>Critical</td>\n",
              "      <td>2013</td>\n",
              "    </tr>\n",
              "    <tr>\n",
              "      <th>2</th>\n",
              "      <td>25330</td>\n",
              "      <td>IN-2013-71249</td>\n",
              "      <td>17-10-2013</td>\n",
              "      <td>18-10-2013</td>\n",
              "      <td>First Class</td>\n",
              "      <td>CR-12730</td>\n",
              "      <td>Craig Reiter</td>\n",
              "      <td>Consumer</td>\n",
              "      <td>Brisbane</td>\n",
              "      <td>Queensland</td>\n",
              "      <td>...</td>\n",
              "      <td>Technology</td>\n",
              "      <td>Phones</td>\n",
              "      <td>Nokia Smart Phone, with Caller ID</td>\n",
              "      <td>5175.171</td>\n",
              "      <td>9</td>\n",
              "      <td>0.1</td>\n",
              "      <td>919.9710</td>\n",
              "      <td>915.49</td>\n",
              "      <td>Medium</td>\n",
              "      <td>2013</td>\n",
              "    </tr>\n",
              "    <tr>\n",
              "      <th>3</th>\n",
              "      <td>13524</td>\n",
              "      <td>ES-2013-1579342</td>\n",
              "      <td>28-01-2013</td>\n",
              "      <td>30-01-2013</td>\n",
              "      <td>First Class</td>\n",
              "      <td>KM-16375</td>\n",
              "      <td>Katherine Murray</td>\n",
              "      <td>Home Office</td>\n",
              "      <td>Berlin</td>\n",
              "      <td>Berlin</td>\n",
              "      <td>...</td>\n",
              "      <td>Technology</td>\n",
              "      <td>Phones</td>\n",
              "      <td>Motorola Smart Phone, Cordless</td>\n",
              "      <td>2892.510</td>\n",
              "      <td>5</td>\n",
              "      <td>0.1</td>\n",
              "      <td>-96.5400</td>\n",
              "      <td>910.16</td>\n",
              "      <td>Medium</td>\n",
              "      <td>2013</td>\n",
              "    </tr>\n",
              "    <tr>\n",
              "      <th>4</th>\n",
              "      <td>47221</td>\n",
              "      <td>SG-2013-4320</td>\n",
              "      <td>05-11-2013</td>\n",
              "      <td>06-11-2013</td>\n",
              "      <td>Same Day</td>\n",
              "      <td>RH-9495</td>\n",
              "      <td>Rick Hansen</td>\n",
              "      <td>Consumer</td>\n",
              "      <td>Dakar</td>\n",
              "      <td>Dakar</td>\n",
              "      <td>...</td>\n",
              "      <td>Technology</td>\n",
              "      <td>Copiers</td>\n",
              "      <td>Sharp Wireless Fax, High-Speed</td>\n",
              "      <td>2832.960</td>\n",
              "      <td>8</td>\n",
              "      <td>0.0</td>\n",
              "      <td>311.5200</td>\n",
              "      <td>903.04</td>\n",
              "      <td>Critical</td>\n",
              "      <td>2013</td>\n",
              "    </tr>\n",
              "  </tbody>\n",
              "</table>\n",
              "<p>5 rows × 25 columns</p>\n",
              "</div>\n",
              "      <button class=\"colab-df-convert\" onclick=\"convertToInteractive('df-4896a8e7-7480-4d3e-b905-7aeac3f81574')\"\n",
              "              title=\"Convert this dataframe to an interactive table.\"\n",
              "              style=\"display:none;\">\n",
              "        \n",
              "  <svg xmlns=\"http://www.w3.org/2000/svg\" height=\"24px\"viewBox=\"0 0 24 24\"\n",
              "       width=\"24px\">\n",
              "    <path d=\"M0 0h24v24H0V0z\" fill=\"none\"/>\n",
              "    <path d=\"M18.56 5.44l.94 2.06.94-2.06 2.06-.94-2.06-.94-.94-2.06-.94 2.06-2.06.94zm-11 1L8.5 8.5l.94-2.06 2.06-.94-2.06-.94L8.5 2.5l-.94 2.06-2.06.94zm10 10l.94 2.06.94-2.06 2.06-.94-2.06-.94-.94-2.06-.94 2.06-2.06.94z\"/><path d=\"M17.41 7.96l-1.37-1.37c-.4-.4-.92-.59-1.43-.59-.52 0-1.04.2-1.43.59L10.3 9.45l-7.72 7.72c-.78.78-.78 2.05 0 2.83L4 21.41c.39.39.9.59 1.41.59.51 0 1.02-.2 1.41-.59l7.78-7.78 2.81-2.81c.8-.78.8-2.07 0-2.86zM5.41 20L4 18.59l7.72-7.72 1.47 1.35L5.41 20z\"/>\n",
              "  </svg>\n",
              "      </button>\n",
              "      \n",
              "  <style>\n",
              "    .colab-df-container {\n",
              "      display:flex;\n",
              "      flex-wrap:wrap;\n",
              "      gap: 12px;\n",
              "    }\n",
              "\n",
              "    .colab-df-convert {\n",
              "      background-color: #E8F0FE;\n",
              "      border: none;\n",
              "      border-radius: 50%;\n",
              "      cursor: pointer;\n",
              "      display: none;\n",
              "      fill: #1967D2;\n",
              "      height: 32px;\n",
              "      padding: 0 0 0 0;\n",
              "      width: 32px;\n",
              "    }\n",
              "\n",
              "    .colab-df-convert:hover {\n",
              "      background-color: #E2EBFA;\n",
              "      box-shadow: 0px 1px 2px rgba(60, 64, 67, 0.3), 0px 1px 3px 1px rgba(60, 64, 67, 0.15);\n",
              "      fill: #174EA6;\n",
              "    }\n",
              "\n",
              "    [theme=dark] .colab-df-convert {\n",
              "      background-color: #3B4455;\n",
              "      fill: #D2E3FC;\n",
              "    }\n",
              "\n",
              "    [theme=dark] .colab-df-convert:hover {\n",
              "      background-color: #434B5C;\n",
              "      box-shadow: 0px 1px 3px 1px rgba(0, 0, 0, 0.15);\n",
              "      filter: drop-shadow(0px 1px 2px rgba(0, 0, 0, 0.3));\n",
              "      fill: #FFFFFF;\n",
              "    }\n",
              "  </style>\n",
              "\n",
              "      <script>\n",
              "        const buttonEl =\n",
              "          document.querySelector('#df-4896a8e7-7480-4d3e-b905-7aeac3f81574 button.colab-df-convert');\n",
              "        buttonEl.style.display =\n",
              "          google.colab.kernel.accessAllowed ? 'block' : 'none';\n",
              "\n",
              "        async function convertToInteractive(key) {\n",
              "          const element = document.querySelector('#df-4896a8e7-7480-4d3e-b905-7aeac3f81574');\n",
              "          const dataTable =\n",
              "            await google.colab.kernel.invokeFunction('convertToInteractive',\n",
              "                                                     [key], {});\n",
              "          if (!dataTable) return;\n",
              "\n",
              "          const docLinkHtml = 'Like what you see? Visit the ' +\n",
              "            '<a target=\"_blank\" href=https://colab.research.google.com/notebooks/data_table.ipynb>data table notebook</a>'\n",
              "            + ' to learn more about interactive tables.';\n",
              "          element.innerHTML = '';\n",
              "          dataTable['output_type'] = 'display_data';\n",
              "          await google.colab.output.renderOutput(dataTable, element);\n",
              "          const docLink = document.createElement('div');\n",
              "          docLink.innerHTML = docLinkHtml;\n",
              "          element.appendChild(docLink);\n",
              "        }\n",
              "      </script>\n",
              "    </div>\n",
              "  </div>\n",
              "  "
            ]
          },
          "metadata": {},
          "execution_count": 42
        }
      ]
    },
    {
      "cell_type": "code",
      "source": [
        "plt.figure(figsize=(24,15))\n",
        "sns.catplot(x=\"Segment\", col=\"year\", data=df_x, kind=\"count\")\n",
        "plt.show()"
      ],
      "metadata": {
        "colab": {
          "base_uri": "https://localhost:8080/",
          "height": 386
        },
        "id": "lu1e5atHG_r9",
        "outputId": "e16f62b6-7064-421f-c8e0-6f7bc9764c79"
      },
      "execution_count": 43,
      "outputs": [
        {
          "output_type": "display_data",
          "data": {
            "text/plain": [
              "<Figure size 1728x1080 with 0 Axes>"
            ]
          },
          "metadata": {}
        },
        {
          "output_type": "display_data",
          "data": {
            "text/plain": [
              "<Figure size 1440x360 with 4 Axes>"
            ],
            "image/png": "[encoded data removed]"
          },
          "metadata": {
            "needs_background": "light"
          }
        }
      ]
    },
    {
      "cell_type": "markdown",
      "source": [
        "# 5. How the customers are distributed across the countries - pie chart"
      ],
      "metadata": {
        "id": "jKf7Q4gWlV0B"
      }
    },
    {
      "cell_type": "code",
      "source": [
        "customer_country = pd.DataFrame({'Count' : df.groupby([\"Country\"]).size()}).reset_index().sort_values('Count',ascending = False).head(10)"
      ],
      "metadata": {
        "id": "5NH3UmEWHE0z"
      },
      "execution_count": 44,
      "outputs": []
    },
    {
      "cell_type": "code",
      "source": [
        "customer_country"
      ],
      "metadata": {
        "colab": {
          "base_uri": "https://localhost:8080/",
          "height": 363
        },
        "id": "vXwTCNX_HH2U",
        "outputId": "757b651a-6c5b-4ede-c4cf-524884e9bee7"
      },
      "execution_count": 45,
      "outputs": [
        {
          "output_type": "execute_result",
          "data": {
            "text/plain": [
              "            Country  Count\n",
              "139   United States   9994\n",
              "6         Australia   2837\n",
              "44           France   2827\n",
              "81           Mexico   2644\n",
              "47          Germany   2065\n",
              "26            China   1880\n",
              "138  United Kingdom   1633\n",
              "17           Brazil   1599\n",
              "57            India   1555\n",
              "58        Indonesia   1390"
            ],
            "text/html": [
              "\n",
              "  <div id=\"df-4b6bf8aa-cb36-4218-9b15-0e9d9da32542\">\n",
              "    <div class=\"colab-df-container\">\n",
              "      <div>\n",
              "<style scoped>\n",
              "    .dataframe tbody tr th:only-of-type {\n",
              "        vertical-align: middle;\n",
              "    }\n",
              "\n",
              "    .dataframe tbody tr th {\n",
              "        vertical-align: top;\n",
              "    }\n",
              "\n",
              "    .dataframe thead th {\n",
              "        text-align: right;\n",
              "    }\n",
              "</style>\n",
              "<table border=\"1\" class=\"dataframe\">\n",
              "  <thead>\n",
              "    <tr style=\"text-align: right;\">\n",
              "      <th></th>\n",
              "      <th>Country</th>\n",
              "      <th>Count</th>\n",
              "    </tr>\n",
              "  </thead>\n",
              "  <tbody>\n",
              "    <tr>\n",
              "      <th>139</th>\n",
              "      <td>United States</td>\n",
              "      <td>9994</td>\n",
              "    </tr>\n",
              "    <tr>\n",
              "      <th>6</th>\n",
              "      <td>Australia</td>\n",
              "      <td>2837</td>\n",
              "    </tr>\n",
              "    <tr>\n",
              "      <th>44</th>\n",
              "      <td>France</td>\n",
              "      <td>2827</td>\n",
              "    </tr>\n",
              "    <tr>\n",
              "      <th>81</th>\n",
              "      <td>Mexico</td>\n",
              "      <td>2644</td>\n",
              "    </tr>\n",
              "    <tr>\n",
              "      <th>47</th>\n",
              "      <td>Germany</td>\n",
              "      <td>2065</td>\n",
              "    </tr>\n",
              "    <tr>\n",
              "      <th>26</th>\n",
              "      <td>China</td>\n",
              "      <td>1880</td>\n",
              "    </tr>\n",
              "    <tr>\n",
              "      <th>138</th>\n",
              "      <td>United Kingdom</td>\n",
              "      <td>1633</td>\n",
              "    </tr>\n",
              "    <tr>\n",
              "      <th>17</th>\n",
              "      <td>Brazil</td>\n",
              "      <td>1599</td>\n",
              "    </tr>\n",
              "    <tr>\n",
              "      <th>57</th>\n",
              "      <td>India</td>\n",
              "      <td>1555</td>\n",
              "    </tr>\n",
              "    <tr>\n",
              "      <th>58</th>\n",
              "      <td>Indonesia</td>\n",
              "      <td>1390</td>\n",
              "    </tr>\n",
              "  </tbody>\n",
              "</table>\n",
              "</div>\n",
              "      <button class=\"colab-df-convert\" onclick=\"convertToInteractive('df-4b6bf8aa-cb36-4218-9b15-0e9d9da32542')\"\n",
              "              title=\"Convert this dataframe to an interactive table.\"\n",
              "              style=\"display:none;\">\n",
              "        \n",
              "  <svg xmlns=\"http://www.w3.org/2000/svg\" height=\"24px\"viewBox=\"0 0 24 24\"\n",
              "       width=\"24px\">\n",
              "    <path d=\"M0 0h24v24H0V0z\" fill=\"none\"/>\n",
              "    <path d=\"M18.56 5.44l.94 2.06.94-2.06 2.06-.94-2.06-.94-.94-2.06-.94 2.06-2.06.94zm-11 1L8.5 8.5l.94-2.06 2.06-.94-2.06-.94L8.5 2.5l-.94 2.06-2.06.94zm10 10l.94 2.06.94-2.06 2.06-.94-2.06-.94-.94-2.06-.94 2.06-2.06.94z\"/><path d=\"M17.41 7.96l-1.37-1.37c-.4-.4-.92-.59-1.43-.59-.52 0-1.04.2-1.43.59L10.3 9.45l-7.72 7.72c-.78.78-.78 2.05 0 2.83L4 21.41c.39.39.9.59 1.41.59.51 0 1.02-.2 1.41-.59l7.78-7.78 2.81-2.81c.8-.78.8-2.07 0-2.86zM5.41 20L4 18.59l7.72-7.72 1.47 1.35L5.41 20z\"/>\n",
              "  </svg>\n",
              "      </button>\n",
              "      \n",
              "  <style>\n",
              "    .colab-df-container {\n",
              "      display:flex;\n",
              "      flex-wrap:wrap;\n",
              "      gap: 12px;\n",
              "    }\n",
              "\n",
              "    .colab-df-convert {\n",
              "      background-color: #E8F0FE;\n",
              "      border: none;\n",
              "      border-radius: 50%;\n",
              "      cursor: pointer;\n",
              "      display: none;\n",
              "      fill: #1967D2;\n",
              "      height: 32px;\n",
              "      padding: 0 0 0 0;\n",
              "      width: 32px;\n",
              "    }\n",
              "\n",
              "    .colab-df-convert:hover {\n",
              "      background-color: #E2EBFA;\n",
              "      box-shadow: 0px 1px 2px rgba(60, 64, 67, 0.3), 0px 1px 3px 1px rgba(60, 64, 67, 0.15);\n",
              "      fill: #174EA6;\n",
              "    }\n",
              "\n",
              "    [theme=dark] .colab-df-convert {\n",
              "      background-color: #3B4455;\n",
              "      fill: #D2E3FC;\n",
              "    }\n",
              "\n",
              "    [theme=dark] .colab-df-convert:hover {\n",
              "      background-color: #434B5C;\n",
              "      box-shadow: 0px 1px 3px 1px rgba(0, 0, 0, 0.15);\n",
              "      filter: drop-shadow(0px 1px 2px rgba(0, 0, 0, 0.3));\n",
              "      fill: #FFFFFF;\n",
              "    }\n",
              "  </style>\n",
              "\n",
              "      <script>\n",
              "        const buttonEl =\n",
              "          document.querySelector('#df-4b6bf8aa-cb36-4218-9b15-0e9d9da32542 button.colab-df-convert');\n",
              "        buttonEl.style.display =\n",
              "          google.colab.kernel.accessAllowed ? 'block' : 'none';\n",
              "\n",
              "        async function convertToInteractive(key) {\n",
              "          const element = document.querySelector('#df-4b6bf8aa-cb36-4218-9b15-0e9d9da32542');\n",
              "          const dataTable =\n",
              "            await google.colab.kernel.invokeFunction('convertToInteractive',\n",
              "                                                     [key], {});\n",
              "          if (!dataTable) return;\n",
              "\n",
              "          const docLinkHtml = 'Like what you see? Visit the ' +\n",
              "            '<a target=\"_blank\" href=https://colab.research.google.com/notebooks/data_table.ipynb>data table notebook</a>'\n",
              "            + ' to learn more about interactive tables.';\n",
              "          element.innerHTML = '';\n",
              "          dataTable['output_type'] = 'display_data';\n",
              "          await google.colab.output.renderOutput(dataTable, element);\n",
              "          const docLink = document.createElement('div');\n",
              "          docLink.innerHTML = docLinkHtml;\n",
              "          element.appendChild(docLink);\n",
              "        }\n",
              "      </script>\n",
              "    </div>\n",
              "  </div>\n",
              "  "
            ]
          },
          "metadata": {},
          "execution_count": 45
        }
      ]
    },
    {
      "cell_type": "code",
      "source": [
        "from matplotlib import pyplot as plt\n",
        "import numpy as np\n",
        "fig = plt.figure()\n",
        "ax = fig.add_axes([0,0,1,1])\n",
        "ax.axis('equal')\n",
        "Countries = customer_country['Country']\n",
        "cust_count = customer_country['Count']\n",
        "ax.pie(cust_count, labels = Countries,autopct='%1.2f%%')\n",
        "plt.show()"
      ],
      "metadata": {
        "colab": {
          "base_uri": "https://localhost:8080/",
          "height": 319
        },
        "id": "7oeQsNtsHKgd",
        "outputId": "b9dd7089-52c0-4254-c02c-ad08b7287878"
      },
      "execution_count": 46,
      "outputs": [
        {
          "output_type": "display_data",
          "data": {
            "text/plain": [
              "<Figure size 432x288 with 1 Axes>"
            ],
            "image/png": "[encoded data removed]"
          },
          "metadata": {}
        }
      ]
    },
    {
      "cell_type": "markdown",
      "source": [
        "Write a function to split the global store data into different unique data frames based on the unique values in country column [Means, we should have one data frame for one country as function output ]"
      ],
      "metadata": {
        "id": "kKb7qqRIHUaV"
      }
    },
    {
      "cell_type": "code",
      "source": [
        "# def new_dataframe(x):\n",
        "#     d = []\n",
        "#     return pd.Series(d, index= df.columns)\n",
        "\n",
        "\n",
        "# df_new_dataframe = df.groupby('Country').apply(new_dataframe)\n",
        "\n",
        "for i, g in df.groupby('Country'):\n",
        "    globals()['df_' + str(i)] =  g\n",
        "    \n",
        "print (df_China)"
      ],
      "metadata": {
        "colab": {
          "base_uri": "https://localhost:8080/"
        },
        "id": "aBpN3iMoHVVq",
        "outputId": "9fc56347-d55a-45c3-903f-a9c1774e831e"
      },
      "execution_count": 47,
      "outputs": [
        {
          "output_type": "stream",
          "name": "stdout",
          "text": [
            "       Row ID       Order ID  Order Date   Ship Date       Ship Mode  \\\n",
            "14      27704  IN-2013-73951  06-06-2013  08-06-2013    Second Class   \n",
            "22      21586  IN-2011-44803  02-05-2011  03-05-2011     First Class   \n",
            "47      24341  IN-2014-50473  28-08-2014  29-08-2014     First Class   \n",
            "64      25314  IN-2014-66615  18-01-2014  23-01-2014  Standard Class   \n",
            "70      21191  IN-2013-40050  07-06-2013  09-06-2013     First Class   \n",
            "...       ...            ...         ...         ...             ...   \n",
            "50478   23920  IN-2014-14402  26-06-2014  28-06-2014    Second Class   \n",
            "50780   23091  IN-2012-75134  01-08-2012  01-08-2012        Same Day   \n",
            "50991   20655  IN-2014-18252  09-01-2014  14-01-2014  Standard Class   \n",
            "51104   22233  IN-2012-64893  15-05-2012  15-05-2012        Same Day   \n",
            "51216   30281  IN-2012-40813  07-12-2012  11-12-2012    Second Class   \n",
            "\n",
            "      Customer ID      Customer Name      Segment          City         State  \\\n",
            "14       PF-19120       Peter Fuller     Consumer    Mudanjiang  Heilongjiang   \n",
            "22       JK-15325  Jason Klamczynski    Corporate        Suzhou         Anhui   \n",
            "47       AP-10915     Arthur Prichep     Consumer     Shouguang      Shandong   \n",
            "64       DB-13405      Denny Blanton     Consumer          Wuxi       Jiangsu   \n",
            "70       AS-10225  Alan Schoenberger    Corporate         Jinan      Shandong   \n",
            "...           ...                ...          ...           ...           ...   \n",
            "50478    RD-19810   Ross DeVincentis  Home Office     Changchun         Jilin   \n",
            "50780    DK-13225          Dean Katz    Corporate      Jiangyan       Jiangsu   \n",
            "50991    AS-10225  Alan Schoenberger    Corporate      Xianyang       Shaanxi   \n",
            "51104    TH-21550      Tracy Hopkins  Home Office  Shuangyashan  Heilongjiang   \n",
            "51216    CA-11965        Carol Adams    Corporate        Foshan     Guangdong   \n",
            "\n",
            "       ...         Category  Sub-Category  \\\n",
            "14     ...  Office Supplies    Appliances   \n",
            "22     ...        Furniture        Chairs   \n",
            "47     ...        Furniture        Chairs   \n",
            "64     ...        Furniture        Chairs   \n",
            "70     ...        Furniture        Chairs   \n",
            "...    ...              ...           ...   \n",
            "50478  ...  Office Supplies           Art   \n",
            "50780  ...  Office Supplies         Paper   \n",
            "50991  ...  Office Supplies        Labels   \n",
            "51104  ...  Office Supplies     Envelopes   \n",
            "51216  ...  Office Supplies     Fasteners   \n",
            "\n",
            "                                            Product Name    Sales Quantity  \\\n",
            "14                           KitchenAid Microwave, White  3701.52       12   \n",
            "22               SAFCO Executive Leather Armchair, Black  2754.00        6   \n",
            "47               Novimex Executive Leather Armchair, Red  2761.20        6   \n",
            "64               SAFCO Executive Leather Armchair, Black  5049.00       11   \n",
            "70     Harbour Creations Executive Leather Armchair, ...  3298.26        7   \n",
            "...                                                  ...      ...      ...   \n",
            "50478                       Sanford Markers, Fluorescent   122.55        5   \n",
            "50780                         Eaton Note Cards, 8.5 x 11    79.47        3   \n",
            "50991                  Avery Shipping Labels, Adjustable    48.75        5   \n",
            "51104      Cameo Manila Envelope, with clear poly window    61.08        2   \n",
            "51216                              OIC Clamps, Bulk Pack    59.31        3   \n",
            "\n",
            "      Discount   Profit Shipping Cost  Order Priority  year  \n",
            "14         0.0  1036.08        804.54        Critical  2013  \n",
            "22         0.0   358.02        752.47        Critical  2011  \n",
            "47         0.0   110.34        644.75            High  2014  \n",
            "64         0.0   656.37        595.50            High  2014  \n",
            "70         0.0  1055.25        589.36            High  2013  \n",
            "...        ...      ...           ...             ...   ...  \n",
            "50478      0.0     2.40          0.27          Medium  2014  \n",
            "50780      0.0    25.38          0.20          Medium  2012  \n",
            "50991      0.0    11.70          0.15          Medium  2014  \n",
            "51104      0.0    26.22          0.11          Medium  2012  \n",
            "51216      0.0    14.76          0.06          Medium  2012  \n",
            "\n",
            "[1880 rows x 25 columns]\n"
          ]
        }
      ]
    }
  ]
}